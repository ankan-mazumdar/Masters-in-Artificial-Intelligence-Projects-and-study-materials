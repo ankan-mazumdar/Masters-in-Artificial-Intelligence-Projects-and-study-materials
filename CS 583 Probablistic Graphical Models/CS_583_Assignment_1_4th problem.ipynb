{
  "nbformat": 4,
  "nbformat_minor": 0,
  "metadata": {
    "colab": {
      "provenance": []
    },
    "kernelspec": {
      "name": "python3",
      "display_name": "Python 3"
    },
    "language_info": {
      "name": "python"
    }
  },
  "cells": [
    {
      "cell_type": "code",
      "source": [
        "!pip install pgmpy"
      ],
      "metadata": {
        "id": "lf47uId59xq3"
      },
      "execution_count": null,
      "outputs": []
    },
    {
      "cell_type": "code",
      "source": [
        "from pgmpy.models import BayesianModel\n",
        "from pgmpy.estimators import MaximumLikelihoodEstimator\n",
        "from pgmpy.inference import VariableElimination\n",
        "import pandas as pd\n",
        "\n",
        "data = {\n",
        "    'A': ['T', 'T', 'T', 'T', 'T', 'T', 'T', 'T', 'F', 'F', 'F', 'F', 'F', 'F', 'F', 'F'],\n",
        "    'B': ['T', 'T', 'T', 'T', 'F', 'F', 'F', 'F', 'T', 'T', 'T', 'T', 'F', 'F', 'F', 'F'],\n",
        "    'C': ['T', 'T', 'F', 'F', 'T', 'T', 'F', 'F', 'T', 'T', 'F', 'F', 'T', 'T', 'F', 'F'],\n",
        "    'D': ['T', 'F', 'T', 'F', 'T', 'F', 'T', 'F', 'T', 'F', 'T', 'F', 'T', 'F', 'T', 'F'],\n",
        "    'result': [0.0448, 0.0252, 0.0112, 0.0588, 0.0144, 0.0144, 0.0096, 0.0216,\n",
        "               0.1024, 0.0576, 0.0256, 0.1344, 0.1152, 0.1152, 0.0768, 0.1728]\n",
        "}\n",
        "df = pd.DataFrame(data)\n",
        "\n",
        "bn_model = BayesianModel([('A', 'result'), ('B', 'result'), ('C', 'result'), ('D', 'result')])\n",
        "\n",
        "bn_estimator = MaximumLikelihoodEstimator(bn_model, df)\n",
        "\n",
        "bn_cpds = bn_estimator.get_parameters()\n",
        "\n",
        "for bn_cpd in bn_cpds:\n",
        "    bn_model.add_cpds(bn_cpd)\n",
        "\n",
        "bn_inference = VariableElimination(bn_model)\n",
        "\n",
        "def independence_result(var1, var2, given=None):\n",
        "    evidence = {}\n",
        "    if given:\n",
        "        evidence[given] = df[given].iloc[0]\n",
        "    if evidence:\n",
        "        independence_query = bn_inference.query(variables=[var1, var2], evidence=evidence)\n",
        "    else:\n",
        "        independence_query = bn_inference.query(variables=[var1, var2])\n",
        "    print(f\"{var1} and {var2} are independent:\", (independence_query.values.flatten()[0] == independence_query.values.flatten()).all())\n",
        "\n",
        "\n",
        "print(\"Independence between A and B:\", independence_result('A', 'B'))\n",
        "print(\"Independence between A and C:\", independence_result('A', 'C'))\n",
        "print(\"Independence between A and D:\", independence_result('A', 'C', given='B'))\n",
        "print(\"Independence between A and D given C:\", independence_result('A', 'D', given='C'))\n"
      ],
      "metadata": {
        "colab": {
          "base_uri": "https://localhost:8080/"
        },
        "id": "MntCocOH83EF",
        "outputId": "b2c4eb49-f60a-409b-f015-516aa3713624"
      },
      "execution_count": 28,
      "outputs": [
        {
          "output_type": "stream",
          "name": "stderr",
          "text": [
            "WARNING:pgmpy:BayesianModel has been renamed to BayesianNetwork. Please use BayesianNetwork class, BayesianModel will be removed in future.\n",
            "WARNING:pgmpy:BayesianModel has been renamed to BayesianNetwork. Please use BayesianNetwork class, BayesianModel will be removed in future.\n",
            "WARNING:pgmpy:BayesianModel has been renamed to BayesianNetwork. Please use BayesianNetwork class, BayesianModel will be removed in future.\n",
            "WARNING:pgmpy:BayesianModel has been renamed to BayesianNetwork. Please use BayesianNetwork class, BayesianModel will be removed in future.\n",
            "WARNING:pgmpy:BayesianModel has been renamed to BayesianNetwork. Please use BayesianNetwork class, BayesianModel will be removed in future.\n",
            "WARNING:pgmpy:BayesianModel has been renamed to BayesianNetwork. Please use BayesianNetwork class, BayesianModel will be removed in future.\n",
            "WARNING:pgmpy:BayesianModel has been renamed to BayesianNetwork. Please use BayesianNetwork class, BayesianModel will be removed in future.\n",
            "WARNING:pgmpy:BayesianModel has been renamed to BayesianNetwork. Please use BayesianNetwork class, BayesianModel will be removed in future.\n",
            "WARNING:pgmpy:BayesianModel has been renamed to BayesianNetwork. Please use BayesianNetwork class, BayesianModel will be removed in future.\n"
          ]
        },
        {
          "output_type": "stream",
          "name": "stdout",
          "text": [
            "A and B are independent: True\n",
            "Independence between A and B: None\n",
            "A and C are independent: True\n",
            "Independence between A and C: None\n",
            "A and C are independent: True\n",
            "Independence between A and D: None\n",
            "A and D are independent: True\n",
            "Independence between A and D given C: None\n"
          ]
        }
      ]
    }
  ]
}