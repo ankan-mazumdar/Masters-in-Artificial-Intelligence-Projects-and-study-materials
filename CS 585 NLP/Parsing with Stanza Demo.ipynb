{
 "cells": [
  {
   "cell_type": "markdown",
   "id": "adcfde86-5c0d-4994-9e62-c7d641609632",
   "metadata": {},
   "source": [
    "# Parsing with Stanza Demo\n",
    "\n",
    "### The Stanza NLP Library\n",
    "\n",
    "This notebook gives a demo of the Stanza NLP Python package from Stanford: https://stanfordnlp.github.io/stanza/\n",
    "\n",
    "This demo uses these stanza datatypes:\n",
    "* [PIpeline](https://stanfordnlp.github.io/stanza/pipeline.html#pipeline)\n",
    "* [Document](https://stanfordnlp.github.io/stanza/data_objects.html#document)\n",
    "* [Sentence](https://stanfordnlp.github.io/stanza/data_objects.html#sentence)\n",
    "* [ParseTree](https://stanfordnlp.github.io/stanza/data_objects.html#parsetree)\n",
    "* [Word](https://stanfordnlp.github.io/stanza/data_objects.html#word)\n",
    "\n",
    "\n",
    "### Data\n",
    "Data from corpus of Readling level complexity: https://github.com/nishkalavallabhi/OneStopEnglishCorpus"
   ]
  },
  {
   "cell_type": "code",
   "execution_count": 1,
   "id": "afbd42e8-63ad-47de-b60c-39d598d5096e",
   "metadata": {},
   "outputs": [],
   "source": [
    "import pandas as pd\n",
    "import numpy as np\n",
    "\n",
    "import stanza"
   ]
  },
  {
   "cell_type": "code",
   "execution_count": 2,
   "id": "ed7d3205-ca37-4dc3-b17e-bb012826649b",
   "metadata": {},
   "outputs": [
    {
     "name": "stdout",
     "output_type": "stream",
     "text": [
      "stanza==1.6.1\n"
     ]
    }
   ],
   "source": [
    "!pip freeze | grep stanza"
   ]
  },
  {
   "cell_type": "code",
   "execution_count": 3,
   "id": "c9edf84b-f44b-4b11-9e98-069fbc45f446",
   "metadata": {},
   "outputs": [
    {
     "name": "stdout",
     "output_type": "stream",
     "text": [
      "17\n"
     ]
    }
   ],
   "source": [
    "df_data = pd.read_csv(\"OneStopEnglishCorpus/Texts-Together-OneCSVperFile/Thatcher.csv\",\n",
    "                      delimiter=',',encoding='cp1252')\n",
    "\n",
    "print(len(df_data))"
   ]
  },
  {
   "cell_type": "code",
   "execution_count": 4,
   "id": "c6a068ea-3271-474a-8066-de0f90a1354b",
   "metadata": {},
   "outputs": [
    {
     "data": {
      "text/html": [
       "<div>\n",
       "<style scoped>\n",
       "    .dataframe tbody tr th:only-of-type {\n",
       "        vertical-align: middle;\n",
       "    }\n",
       "\n",
       "    .dataframe tbody tr th {\n",
       "        vertical-align: top;\n",
       "    }\n",
       "\n",
       "    .dataframe thead th {\n",
       "        text-align: right;\n",
       "    }\n",
       "</style>\n",
       "<table border=\"1\" class=\"dataframe\">\n",
       "  <thead>\n",
       "    <tr style=\"text-align: right;\">\n",
       "      <th></th>\n",
       "      <th>Elementary</th>\n",
       "      <th>Intermediate</th>\n",
       "      <th>Advanced</th>\n",
       "    </tr>\n",
       "  </thead>\n",
       "  <tbody>\n",
       "    <tr>\n",
       "      <th>0</th>\n",
       "      <td>Margaret Thatcher, the most famous British\\npr...</td>\n",
       "      <td>Margaret Thatcher, the best known British prim...</td>\n",
       "      <td>Margaret Thatcher, the most dominant British\\n...</td>\n",
       "    </tr>\n",
       "    <tr>\n",
       "      <th>1</th>\n",
       "      <td>The British prime minister, David Cameron,\\nsa...</td>\n",
       "      <td>The British prime minister, David Cameron, sai...</td>\n",
       "      <td>The British prime minister, David Cameron,\\nwh...</td>\n",
       "    </tr>\n",
       "    <tr>\n",
       "      <th>2</th>\n",
       "      <td>President Barack Obama said, “Here in\\nAmerica...</td>\n",
       "      <td>In a statement, President Barack Obama said,\\n...</td>\n",
       "      <td>In a statement, President Barack Obama said,\\n...</td>\n",
       "    </tr>\n",
       "    <tr>\n",
       "      <th>3</th>\n",
       "      <td>Margaret Thatcher was the first woman\\nleader ...</td>\n",
       "      <td>The first woman elected to lead a major wester...</td>\n",
       "      <td>The first woman elected to lead a major wester...</td>\n",
       "    </tr>\n",
       "    <tr>\n",
       "      <th>4</th>\n",
       "      <td>When they heard of her death, politicians\\nfro...</td>\n",
       "      <td>Thatcher, who was 87, had been in poor health\\...</td>\n",
       "      <td>Thatcher, who was 87, had been in declining\\nh...</td>\n",
       "    </tr>\n",
       "  </tbody>\n",
       "</table>\n",
       "</div>"
      ],
      "text/plain": [
       "                                          Elementary  \\\n",
       "0  Margaret Thatcher, the most famous British\\npr...   \n",
       "1  The British prime minister, David Cameron,\\nsa...   \n",
       "2  President Barack Obama said, “Here in\\nAmerica...   \n",
       "3  Margaret Thatcher was the first woman\\nleader ...   \n",
       "4  When they heard of her death, politicians\\nfro...   \n",
       "\n",
       "                                       Intermediate   \\\n",
       "0  Margaret Thatcher, the best known British prim...   \n",
       "1  The British prime minister, David Cameron, sai...   \n",
       "2  In a statement, President Barack Obama said,\\n...   \n",
       "3  The first woman elected to lead a major wester...   \n",
       "4  Thatcher, who was 87, had been in poor health\\...   \n",
       "\n",
       "                                            Advanced  \n",
       "0  Margaret Thatcher, the most dominant British\\n...  \n",
       "1  The British prime minister, David Cameron,\\nwh...  \n",
       "2  In a statement, President Barack Obama said,\\n...  \n",
       "3  The first woman elected to lead a major wester...  \n",
       "4  Thatcher, who was 87, had been in declining\\nh...  "
      ]
     },
     "execution_count": 4,
     "metadata": {},
     "output_type": "execute_result"
    }
   ],
   "source": [
    "df_data.head()"
   ]
  },
  {
   "cell_type": "code",
   "execution_count": 5,
   "id": "01125847-2b20-4d48-8ac1-21df159b235b",
   "metadata": {},
   "outputs": [
    {
     "data": {
      "text/html": [
       "<div>\n",
       "<style scoped>\n",
       "    .dataframe tbody tr th:only-of-type {\n",
       "        vertical-align: middle;\n",
       "    }\n",
       "\n",
       "    .dataframe tbody tr th {\n",
       "        vertical-align: top;\n",
       "    }\n",
       "\n",
       "    .dataframe thead th {\n",
       "        text-align: right;\n",
       "    }\n",
       "</style>\n",
       "<table border=\"1\" class=\"dataframe\">\n",
       "  <thead>\n",
       "    <tr style=\"text-align: right;\">\n",
       "      <th></th>\n",
       "      <th>Elementary</th>\n",
       "      <th>Intermediate</th>\n",
       "      <th>Advanced</th>\n",
       "    </tr>\n",
       "  </thead>\n",
       "  <tbody>\n",
       "    <tr>\n",
       "      <th>12</th>\n",
       "      <td>NaN</td>\n",
       "      <td>As the British economy recovered from the very...</td>\n",
       "      <td>Boosted by the newly arrived revenues from\\nBr...</td>\n",
       "    </tr>\n",
       "    <tr>\n",
       "      <th>13</th>\n",
       "      <td>NaN</td>\n",
       "      <td>After she retired, she wrote highly successful...</td>\n",
       "      <td>But she also deployed her notorious\\n“handbagg...</td>\n",
       "    </tr>\n",
       "    <tr>\n",
       "      <th>14</th>\n",
       "      <td>NaN</td>\n",
       "      <td>NaN</td>\n",
       "      <td>Her allies in the tabloid press egged her on.\\...</td>\n",
       "    </tr>\n",
       "    <tr>\n",
       "      <th>15</th>\n",
       "      <td>NaN</td>\n",
       "      <td>NaN</td>\n",
       "      <td>But untrammelled power, with the defeat or\\nre...</td>\n",
       "    </tr>\n",
       "    <tr>\n",
       "      <th>16</th>\n",
       "      <td>NaN</td>\n",
       "      <td>NaN</td>\n",
       "      <td>In retirement, she wrote highly successful\\nme...</td>\n",
       "    </tr>\n",
       "  </tbody>\n",
       "</table>\n",
       "</div>"
      ],
      "text/plain": [
       "   Elementary                                      Intermediate   \\\n",
       "12        NaN  As the British economy recovered from the very...   \n",
       "13        NaN  After she retired, she wrote highly successful...   \n",
       "14        NaN                                                NaN   \n",
       "15        NaN                                                NaN   \n",
       "16        NaN                                                NaN   \n",
       "\n",
       "                                             Advanced  \n",
       "12  Boosted by the newly arrived revenues from\\nBr...  \n",
       "13  But she also deployed her notorious\\n“handbagg...  \n",
       "14  Her allies in the tabloid press egged her on.\\...  \n",
       "15  But untrammelled power, with the defeat or\\nre...  \n",
       "16  In retirement, she wrote highly successful\\nme...  "
      ]
     },
     "execution_count": 5,
     "metadata": {},
     "output_type": "execute_result"
    }
   ],
   "source": [
    "# some sentences don't have Elementary and Intermediate versions:\n",
    "df_data.tail()"
   ]
  },
  {
   "cell_type": "code",
   "execution_count": 6,
   "id": "50f7b810-9e6f-447b-9278-17547f8ca5ca",
   "metadata": {},
   "outputs": [
    {
     "name": "stdout",
     "output_type": "stream",
     "text": [
      "The British prime minister, David Cameron,\n",
      "said: “I was very sad when l heard of Lady\n",
      "Thatcher’s death. We’ve lost a great leader,\n",
      "a great prime minister and a great Briton.”\n",
      "He added: “She was our first woman prime\n",
      "minister – and she didn’t just lead our\n",
      "country, she saved our country.” He added\n",
      "that he believed she would be remembered\n",
      "as the greatest British peacetime\n",
      "prime minister.\n"
     ]
    }
   ],
   "source": [
    "# One text in this dataset can be composed of multiple sentences:\n",
    "\n",
    "text1 = df_data.Elementary.iloc[1]\n",
    "print(text1)"
   ]
  },
  {
   "cell_type": "code",
   "execution_count": 7,
   "id": "359f7758-3b73-40f8-8a13-89e2a4355dad",
   "metadata": {},
   "outputs": [
    {
     "name": "stdout",
     "output_type": "stream",
     "text": [
      "The British prime minister, David Cameron,\n",
      "who is cutting short his trip to Europe to return\n",
      "to London following the news, said: “It was with\n",
      "great sadness that l learned of Lady Thatcher’s\n",
      "death. We’ve lost a great leader, a great prime\n",
      "minister and a great Briton.” He added: “As our\n",
      "first woman prime minister, Margaret Thatcher\n",
      "succeeded against all the odds, and the real\n",
      "thing about Margaret Thatcher is that she didn’t\n",
      "just lead our country, she saved our country, and\n",
      "I believe she will go down as the greatest British\n",
      "peacetime prime minister.”\n"
     ]
    }
   ],
   "source": [
    "text2 = df_data.Advanced.iloc[1]\n",
    "print(text2)"
   ]
  },
  {
   "cell_type": "markdown",
   "id": "9fa17503-deea-4d9a-b6ca-cf1ec28c6763",
   "metadata": {},
   "source": [
    "## Applying the Stanza Constituent parsing model "
   ]
  },
  {
   "cell_type": "code",
   "execution_count": 8,
   "id": "e1aa8a6a-85ab-4ee5-a03a-5fae23df5101",
   "metadata": {},
   "outputs": [
    {
     "name": "stderr",
     "output_type": "stream",
     "text": [
      "2023-11-06 22:49:28 INFO: Checking for updates to resources.json in case models have been updated.  Note: this behavior can be turned off with download_method=None or download_method=DownloadMethod.REUSE_RESOURCES\n"
     ]
    },
    {
     "data": {
      "application/vnd.jupyter.widget-view+json": {
       "model_id": "edd57ffce7e14e9b8e9f60a8b02448d8",
       "version_major": 2,
       "version_minor": 0
      },
      "text/plain": [
       "Downloading https://raw.githubusercontent.com/stanfordnlp/stanza-resources/main/resources_1.6.0.json:   0%|   …"
      ]
     },
     "metadata": {},
     "output_type": "display_data"
    },
    {
     "name": "stderr",
     "output_type": "stream",
     "text": [
      "2023-11-06 22:49:29 INFO: Loading these models for language: en (English):\n",
      "======================================\n",
      "| Processor    | Package             |\n",
      "--------------------------------------\n",
      "| tokenize     | combined            |\n",
      "| pos          | combined_charlm     |\n",
      "| constituency | ptb3-revised_charlm |\n",
      "======================================\n",
      "\n",
      "2023-11-06 22:49:29 INFO: Using device: cpu\n",
      "2023-11-06 22:49:29 INFO: Loading: tokenize\n",
      "2023-11-06 22:49:31 INFO: Loading: pos\n",
      "2023-11-06 22:49:31 INFO: Loading: constituency\n",
      "2023-11-06 22:49:32 INFO: Done loading processors!\n"
     ]
    },
    {
     "name": "stdout",
     "output_type": "stream",
     "text": [
      "<class 'stanza.pipeline.core.Pipeline'>\n"
     ]
    }
   ],
   "source": [
    "# Pipeline requires tokenization and POS-tagging \n",
    "nlp_pipeline = stanza.Pipeline(lang='en', processors='tokenize,pos,constituency')\n",
    "\n",
    "# stanza.pipeline.core.Pipeline\n",
    "print(type(nlp_pipeline))"
   ]
  },
  {
   "cell_type": "code",
   "execution_count": 9,
   "id": "dadc2f4b-1494-43bc-8844-34fd1330f943",
   "metadata": {},
   "outputs": [
    {
     "name": "stdout",
     "output_type": "stream",
     "text": [
      "<class 'stanza.models.common.doc.Document'>\n"
     ]
    }
   ],
   "source": [
    "doc = nlp_pipeline(text1)\n",
    "print(type(doc))"
   ]
  },
  {
   "cell_type": "code",
   "execution_count": 10,
   "id": "ff3a9e36-bbca-4968-ac9b-7de9446df82b",
   "metadata": {},
   "outputs": [
    {
     "name": "stdout",
     "output_type": "stream",
     "text": [
      "# sentences in Elementary text: 4\n",
      "\n",
      "First 5 words of first sentences:\n",
      "[{\n",
      "  \"id\": 1,\n",
      "  \"text\": \"The\",\n",
      "  \"upos\": \"DET\",\n",
      "  \"xpos\": \"DT\",\n",
      "  \"feats\": \"Definite=Def|PronType=Art\",\n",
      "  \"start_char\": 0,\n",
      "  \"end_char\": 3\n",
      "}, {\n",
      "  \"id\": 2,\n",
      "  \"text\": \"British\",\n",
      "  \"upos\": \"ADJ\",\n",
      "  \"xpos\": \"JJ\",\n",
      "  \"feats\": \"Degree=Pos\",\n",
      "  \"start_char\": 4,\n",
      "  \"end_char\": 11\n",
      "}, {\n",
      "  \"id\": 3,\n",
      "  \"text\": \"prime\",\n",
      "  \"upos\": \"ADJ\",\n",
      "  \"xpos\": \"JJ\",\n",
      "  \"feats\": \"Degree=Pos\",\n",
      "  \"start_char\": 12,\n",
      "  \"end_char\": 17\n",
      "}, {\n",
      "  \"id\": 4,\n",
      "  \"text\": \"minister\",\n",
      "  \"upos\": \"NOUN\",\n",
      "  \"xpos\": \"NN\",\n",
      "  \"feats\": \"Number=Sing\",\n",
      "  \"start_char\": 18,\n",
      "  \"end_char\": 26\n",
      "}, {\n",
      "  \"id\": 5,\n",
      "  \"text\": \",\",\n",
      "  \"upos\": \"PUNCT\",\n",
      "  \"xpos\": \",\",\n",
      "  \"start_char\": 26,\n",
      "  \"end_char\": 27\n",
      "}]\n",
      "\n",
      "First 5 words of 2nd sentences:\n",
      "[{\n",
      "  \"id\": 1,\n",
      "  \"text\": \"We\",\n",
      "  \"upos\": \"PRON\",\n",
      "  \"xpos\": \"PRP\",\n",
      "  \"feats\": \"Case=Nom|Number=Plur|Person=1|PronType=Prs\",\n",
      "  \"start_char\": 104,\n",
      "  \"end_char\": 106\n",
      "}, {\n",
      "  \"id\": 2,\n",
      "  \"text\": \"’ve\",\n",
      "  \"upos\": \"AUX\",\n",
      "  \"xpos\": \"VBP\",\n",
      "  \"feats\": \"Mood=Ind|Number=Plur|Person=1|Tense=Pres|VerbForm=Fin\",\n",
      "  \"start_char\": 106,\n",
      "  \"end_char\": 109\n",
      "}, {\n",
      "  \"id\": 3,\n",
      "  \"text\": \"lost\",\n",
      "  \"upos\": \"VERB\",\n",
      "  \"xpos\": \"VBN\",\n",
      "  \"feats\": \"Tense=Past|VerbForm=Part\",\n",
      "  \"start_char\": 110,\n",
      "  \"end_char\": 114\n",
      "}, {\n",
      "  \"id\": 4,\n",
      "  \"text\": \"a\",\n",
      "  \"upos\": \"DET\",\n",
      "  \"xpos\": \"DT\",\n",
      "  \"feats\": \"Definite=Ind|PronType=Art\",\n",
      "  \"start_char\": 115,\n",
      "  \"end_char\": 116\n",
      "}, {\n",
      "  \"id\": 5,\n",
      "  \"text\": \"great\",\n",
      "  \"upos\": \"ADJ\",\n",
      "  \"xpos\": \"JJ\",\n",
      "  \"feats\": \"Degree=Pos\",\n",
      "  \"start_char\": 117,\n",
      "  \"end_char\": 122\n",
      "}]\n"
     ]
    }
   ],
   "source": [
    "sentences = doc.sentences\n",
    "print(f\"# sentences in Elementary text: {len(sentences)}\\n\")\n",
    "\n",
    "print(\"First 5 words of first sentences:\")\n",
    "print(sentences[0].words[:5])\n",
    "\n",
    "print(\"\\nFirst 5 words of 2nd sentences:\")\n",
    "print(sentences[1].words[:5])"
   ]
  },
  {
   "cell_type": "code",
   "execution_count": 11,
   "id": "d728f647-acef-489d-a8e7-de03686391dc",
   "metadata": {},
   "outputs": [
    {
     "name": "stdout",
     "output_type": "stream",
     "text": [
      "['The', 'British', 'prime', 'minister', ',', 'David', 'Cameron', ',', 'said', ':', '“', 'I', 'was', 'very', 'sad', 'when', 'l', 'heard', 'of', 'Lady', 'Thatcher', '’s', 'death', '.']\n"
     ]
    }
   ],
   "source": [
    "# words in first sentence:\n",
    "print([w.text for w in sentences[0].words])"
   ]
  },
  {
   "cell_type": "code",
   "execution_count": 12,
   "id": "2a805b8a-9e2f-418e-ae06-da66f14771c2",
   "metadata": {},
   "outputs": [
    {
     "name": "stdout",
     "output_type": "stream",
     "text": [
      "<class 'stanza.models.constituency.parse_tree.Tree'>\n"
     ]
    }
   ],
   "source": [
    "# Viewing parse tree of first sentence in text/document:\n",
    "parse = sentences[0].constituency\n",
    "print(type(parse))"
   ]
  },
  {
   "cell_type": "code",
   "execution_count": 13,
   "id": "c24a708b-bb2a-4d0d-bf7a-01132ec0cdac",
   "metadata": {},
   "outputs": [
    {
     "name": "stdout",
     "output_type": "stream",
     "text": [
      "(ROOT (S (NP (NP (DT The) (JJ British) (JJ prime) (NN minister)) (, ,) (NP (NNP David) (NNP Cameron)) (, ,)) (VP (VBD said) (: :) (`` “) (S (NP (PRP I)) (VP (VBD was) (ADJP (RB very) (JJ sad)) (SBAR (WHADVP (WRB when)) (S (NP (NNP l)) (VP (VBD heard) (PP (IN of) (NP (NNP Lady) (NNP Thatcher))) (NP (POS ’s) (NN death)))))))) (. .)))\n"
     ]
    }
   ],
   "source": [
    "print(parse)"
   ]
  },
  {
   "cell_type": "code",
   "execution_count": 14,
   "id": "b31ebb79-9799-454a-85b9-401a2f75bb99",
   "metadata": {},
   "outputs": [
    {
     "name": "stdout",
     "output_type": "stream",
     "text": [
      "(ROOT\n",
      "  (S\n",
      "    (NP\n",
      "      (NP (DT The) (JJ British) (JJ prime) (NN minister))\n",
      "      (, ,)\n",
      "      (NP (NNP David) (NNP Cameron))\n",
      "      (, ,))\n",
      "    (VP\n",
      "      (VBD said)\n",
      "      (: :)\n",
      "      (`` “)\n",
      "      (S\n",
      "        (NP (PRP I))\n",
      "        (VP\n",
      "          (VBD was)\n",
      "          (ADJP (RB very) (JJ sad))\n",
      "          (SBAR\n",
      "            (WHADVP (WRB when))\n",
      "            (S\n",
      "              (NP (NNP l))\n",
      "              (VP\n",
      "                (VBD heard)\n",
      "                (PP\n",
      "                  (IN of)\n",
      "                  (NP (NNP Lady) (NNP Thatcher)))\n",
      "                (NP (POS ’s) (NN death))))))))\n",
      "    (. .)))\n",
      "\n"
     ]
    }
   ],
   "source": [
    "print(parse.pretty_print())"
   ]
  },
  {
   "cell_type": "code",
   "execution_count": 15,
   "id": "6419f4a1-e46c-4560-bd65-2dba44eb90b8",
   "metadata": {},
   "outputs": [
    {
     "name": "stdout",
     "output_type": "stream",
     "text": [
      "Depth of parse 0:  11\n",
      "Depth of parse 1:  7\n",
      "Depth of parse 2:  11\n",
      "Depth of parse 3:  14\n"
     ]
    }
   ],
   "source": [
    "# depth of each of 4 sentences in this document:\n",
    "for idx,sent in enumerate(sentences):\n",
    "    parse = sent.constituency\n",
    "    print(f\"Depth of parse {idx}: \",parse.depth())\n",
    "    "
   ]
  },
  {
   "cell_type": "code",
   "execution_count": 16,
   "id": "96c896fb-7a47-4a7b-887e-7ae67e51a897",
   "metadata": {},
   "outputs": [
    {
     "name": "stdout",
     "output_type": "stream",
     "text": [
      "# sentences in Advanced text: 3\n",
      "\n",
      "Depth of parse 0:  13\n",
      "Depth of parse 1:  7\n",
      "Depth of parse 2:  15\n"
     ]
    }
   ],
   "source": [
    "# Apply same code to different text - the ≠\"Advanced\" version of same sentence\n",
    "\n",
    "doc = nlp_pipeline(text2)\n",
    "sentences_advanced = doc.sentences\n",
    "\n",
    "print(f\"# sentences in Advanced text: {len(sentences_advanced)}\\n\")\n",
    "\n",
    "for idx,sent in enumerate(sentences_advanced):\n",
    "    parse = sent.constituency\n",
    "    print(f\"Depth of parse {idx}: \",parse.depth())"
   ]
  },
  {
   "cell_type": "code",
   "execution_count": 17,
   "id": "e674d32a-a496-4888-a7ef-be4cd0012b9f",
   "metadata": {},
   "outputs": [
    {
     "name": "stdout",
     "output_type": "stream",
     "text": [
      "['The', 'British', 'prime', 'minister', ',', 'David', 'Cameron', ',', 'who', 'is', 'cutting', 'short', 'his', 'trip', 'to', 'Europe', 'to', 'return', 'to', 'London', 'following', 'the', 'news', ',', 'said', ':', '“', 'It', 'was', 'with', 'great', 'sadness', 'that', 'l', 'learned', 'of', 'Lady', 'Thatcher', '’s', 'death', '.']\n"
     ]
    }
   ],
   "source": [
    "# words in first sentence:\n",
    "print([w.text for w in sentences_advanced[0].words])"
   ]
  },
  {
   "cell_type": "code",
   "execution_count": 18,
   "id": "96cce7c5-f884-4378-bfc2-13b9da5d6bd8",
   "metadata": {},
   "outputs": [
    {
     "name": "stdout",
     "output_type": "stream",
     "text": [
      "(ROOT\n",
      "  (S\n",
      "    (NP\n",
      "      (NP\n",
      "        (NP (DT The) (JJ British) (JJ prime) (NN minister))\n",
      "        (, ,)\n",
      "        (NP (NNP David) (NNP Cameron)))\n",
      "      (, ,)\n",
      "      (SBAR\n",
      "        (WHNP (WP who))\n",
      "        (S\n",
      "          (VP\n",
      "            (VBZ is)\n",
      "            (VP\n",
      "              (VBG cutting)\n",
      "              (ADVP (JJ short))\n",
      "              (NP\n",
      "                (NP (PRP$ his) (NN trip))\n",
      "                (PP\n",
      "                  (IN to)\n",
      "                  (NP (NNP Europe))))\n",
      "              (S\n",
      "                (VP\n",
      "                  (TO to)\n",
      "                  (VP\n",
      "                    (VB return)\n",
      "                    (PP\n",
      "                      (IN to)\n",
      "                      (NP (NNP London)))\n",
      "                    (PP\n",
      "                      (VBG following)\n",
      "                      (NP (DT the) (NN news))))))))))\n",
      "      (, ,))\n",
      "    (VP\n",
      "      (VBD said)\n",
      "      (: :)\n",
      "      (`` “)\n",
      "      (S\n",
      "        (NP (PRP It))\n",
      "        (VP\n",
      "          (VBD was)\n",
      "          (PP\n",
      "            (IN with)\n",
      "            (NP (JJ great) (NN sadness)))\n",
      "          (SBAR\n",
      "            (IN that)\n",
      "            (S\n",
      "              (NP (NNP l))\n",
      "              (VP\n",
      "                (VBD learned)\n",
      "                (PP\n",
      "                  (IN of)\n",
      "                  (NP (NNP Lady) (NNP Thatcher)))\n",
      "                (NP (POS ’s) (NN death))))))))\n",
      "    (. .)))\n",
      "\n"
     ]
    }
   ],
   "source": [
    "parse = sentences_advanced[0].constituency\n",
    "print(parse.pretty_print())"
   ]
  },
  {
   "cell_type": "markdown",
   "id": "c1c0f07f-e772-4174-9992-f6506d0f0955",
   "metadata": {},
   "source": [
    "## Dependency Parsing with Stanza\n",
    "\n",
    "Based on:\n",
    "https://stanfordnlp.github.io/stanza/depparse.html   \n",
    "* Note language in this example is French `fr`\n"
   ]
  },
  {
   "cell_type": "code",
   "execution_count": 19,
   "id": "130187dd-d26a-43ab-9724-127355e1fcde",
   "metadata": {},
   "outputs": [],
   "source": [
    "import stanza.models.constituency.parse_tree as Tree"
   ]
  },
  {
   "cell_type": "code",
   "execution_count": 20,
   "id": "8c8949b6-4b97-4f2e-8084-d819c0cd525f",
   "metadata": {},
   "outputs": [
    {
     "name": "stderr",
     "output_type": "stream",
     "text": [
      "2023-11-06 22:49:41 INFO: Checking for updates to resources.json in case models have been updated.  Note: this behavior can be turned off with download_method=None or download_method=DownloadMethod.REUSE_RESOURCES\n"
     ]
    },
    {
     "data": {
      "application/vnd.jupyter.widget-view+json": {
       "model_id": "54aae60e901b4b2bb37307c372515981",
       "version_major": 2,
       "version_minor": 0
      },
      "text/plain": [
       "Downloading https://raw.githubusercontent.com/stanfordnlp/stanza-resources/main/resources_1.6.0.json:   0%|   …"
      ]
     },
     "metadata": {},
     "output_type": "display_data"
    },
    {
     "name": "stderr",
     "output_type": "stream",
     "text": [
      "2023-11-06 22:49:41 WARNING: Can not find mwt: default from official model list. Ignoring it.\n",
      "2023-11-06 22:49:42 INFO: Loading these models for language: en (English):\n",
      "=================================\n",
      "| Processor | Package           |\n",
      "---------------------------------\n",
      "| tokenize  | combined          |\n",
      "| pos       | combined_charlm   |\n",
      "| lemma     | combined_nocharlm |\n",
      "| depparse  | combined_charlm   |\n",
      "=================================\n",
      "\n",
      "2023-11-06 22:49:42 INFO: Using device: cpu\n",
      "2023-11-06 22:49:42 INFO: Loading: tokenize\n",
      "2023-11-06 22:49:42 INFO: Loading: pos\n",
      "2023-11-06 22:49:43 INFO: Loading: lemma\n",
      "2023-11-06 22:49:43 INFO: Loading: depparse\n",
      "2023-11-06 22:49:44 INFO: Done loading processors!\n"
     ]
    },
    {
     "name": "stdout",
     "output_type": "stream",
     "text": [
      "<class 'stanza.pipeline.core.Pipeline'>\n"
     ]
    }
   ],
   "source": [
    "# create new pipeline from Stanza dependency parser: \n",
    "\n",
    "nlp_dep_pipeline = stanza.Pipeline(lang='en', processors='tokenize,mwt,pos,lemma,depparse')\n",
    "\n",
    "print(type(nlp_dep_pipeline))"
   ]
  },
  {
   "cell_type": "code",
   "execution_count": 21,
   "id": "da1ccbb8-3fb2-46f8-9396-2b8e4092601e",
   "metadata": {},
   "outputs": [],
   "source": [
    "doc2 = nlp_dep_pipeline(text1)\n",
    "sentences_depparse = doc2.sentences"
   ]
  },
  {
   "cell_type": "code",
   "execution_count": 22,
   "id": "57a81e5e-7af8-4935-a032-f763e1c35c46",
   "metadata": {},
   "outputs": [
    {
     "name": "stdout",
     "output_type": "stream",
     "text": [
      "[{\n",
      "  \"id\": 1,\n",
      "  \"text\": \"The\",\n",
      "  \"lemma\": \"the\",\n",
      "  \"upos\": \"DET\",\n",
      "  \"xpos\": \"DT\",\n",
      "  \"feats\": \"Definite=Def|PronType=Art\",\n",
      "  \"head\": 4,\n",
      "  \"deprel\": \"det\",\n",
      "  \"start_char\": 0,\n",
      "  \"end_char\": 3\n",
      "}, {\n",
      "  \"id\": 2,\n",
      "  \"text\": \"British\",\n",
      "  \"lemma\": \"British\",\n",
      "  \"upos\": \"ADJ\",\n",
      "  \"xpos\": \"JJ\",\n",
      "  \"feats\": \"Degree=Pos\",\n",
      "  \"head\": 4,\n",
      "  \"deprel\": \"amod\",\n",
      "  \"start_char\": 4,\n",
      "  \"end_char\": 11\n",
      "}, {\n",
      "  \"id\": 3,\n",
      "  \"text\": \"prime\",\n",
      "  \"lemma\": \"prime\",\n",
      "  \"upos\": \"ADJ\",\n",
      "  \"xpos\": \"JJ\",\n",
      "  \"feats\": \"Degree=Pos\",\n",
      "  \"head\": 4,\n",
      "  \"deprel\": \"amod\",\n",
      "  \"start_char\": 12,\n",
      "  \"end_char\": 17\n",
      "}, {\n",
      "  \"id\": 4,\n",
      "  \"text\": \"minister\",\n",
      "  \"lemma\": \"minister\",\n",
      "  \"upos\": \"NOUN\",\n",
      "  \"xpos\": \"NN\",\n",
      "  \"feats\": \"Number=Sing\",\n",
      "  \"head\": 9,\n",
      "  \"deprel\": \"nsubj\",\n",
      "  \"start_char\": 18,\n",
      "  \"end_char\": 26\n",
      "}, {\n",
      "  \"id\": 5,\n",
      "  \"text\": \",\",\n",
      "  \"lemma\": \",\",\n",
      "  \"upos\": \"PUNCT\",\n",
      "  \"xpos\": \",\",\n",
      "  \"head\": 6,\n",
      "  \"deprel\": \"punct\",\n",
      "  \"start_char\": 26,\n",
      "  \"end_char\": 27\n",
      "}]\n"
     ]
    }
   ],
   "source": [
    "print(sentences_depparse[0].words[:5])"
   ]
  },
  {
   "cell_type": "code",
   "execution_count": 23,
   "id": "59492e96-d95d-4f44-adc7-b1352e7e12c9",
   "metadata": {},
   "outputs": [
    {
     "name": "stdout",
     "output_type": "stream",
     "text": [
      "('The', 4, 'det')\n",
      "('British', 4, 'amod')\n",
      "('prime', 4, 'amod')\n",
      "('minister', 9, 'nsubj')\n",
      "(',', 6, 'punct')\n",
      "('David', 4, 'appos')\n",
      "('Cameron', 6, 'flat')\n",
      "(',', 4, 'punct')\n",
      "('said', 0, 'root')\n",
      "(':', 9, 'punct')\n",
      "('“', 15, 'punct')\n",
      "('I', 15, 'nsubj')\n",
      "('was', 15, 'cop')\n",
      "('very', 15, 'advmod')\n",
      "('sad', 9, 'ccomp')\n",
      "('when', 18, 'advmod')\n",
      "('l', 18, 'nsubj')\n",
      "('heard', 15, 'advcl')\n",
      "('of', 23, 'case')\n",
      "('Lady', 23, 'nmod:poss')\n",
      "('Thatcher', 20, 'flat')\n",
      "('’s', 20, 'case')\n",
      "('death', 18, 'obl')\n",
      "('.', 9, 'punct')\n"
     ]
    }
   ],
   "source": [
    "sentences_depparse[0].print_dependencies()"
   ]
  },
  {
   "cell_type": "code",
   "execution_count": 24,
   "id": "c9bdb959-9da3-430c-8b73-87d417c319ea",
   "metadata": {},
   "outputs": [
    {
     "name": "stdout",
     "output_type": "stream",
     "text": [
      "1 The --> 4 minister\n",
      "2 British --> 4 minister\n",
      "3 prime --> 4 minister\n",
      "4 minister --> 9 said\n",
      "5 , --> 6 David\n",
      "6 David --> 4 minister\n",
      "7 Cameron --> 6 David\n",
      "8 , --> 4 minister\n",
      "9 said --> 0  ****ROOT****\n",
      "10 : --> 9 said\n",
      "11 “ --> 15 sad\n",
      "12 I --> 15 sad\n",
      "13 was --> 15 sad\n",
      "14 very --> 15 sad\n",
      "15 sad --> 9 said\n",
      "16 when --> 18 heard\n",
      "17 l --> 18 heard\n",
      "18 heard --> 15 sad\n",
      "19 of --> 23 death\n",
      "20 Lady --> 23 death\n",
      "21 Thatcher --> 20 Lady\n",
      "22 ’s --> 20 Lady\n",
      "23 death --> 18 heard\n",
      "24 . --> 9 said\n"
     ]
    }
   ],
   "source": [
    "# another view of dependencies, similar to:\n",
    "#parse=sentences_depparse[0]\n",
    "#print(parse.dependencies_string())\n",
    "\n",
    "for word in sentences_depparse[0].words:\n",
    "    head_id = word.head\n",
    "    head_word_text = sentences_depparse[0].words[head_id-1].text if head_id>0 else \" ****ROOT****\"\n",
    "    print(word.id, word.text,\"-->\",head_id,head_word_text)"
   ]
  },
  {
   "cell_type": "code",
   "execution_count": 25,
   "id": "d40fae27-81db-4e1c-9d26-aaab7b135a9b",
   "metadata": {},
   "outputs": [
    {
     "name": "stdout",
     "output_type": "stream",
     "text": [
      "Showing head word of sentence:\n"
     ]
    },
    {
     "data": {
      "text/plain": [
       "[{\n",
       "   \"id\": 9,\n",
       "   \"text\": \"said\",\n",
       "   \"lemma\": \"say\",\n",
       "   \"upos\": \"VERB\",\n",
       "   \"xpos\": \"VBD\",\n",
       "   \"feats\": \"Mood=Ind|Number=Sing|Person=3|Tense=Past|VerbForm=Fin\",\n",
       "   \"head\": 0,\n",
       "   \"deprel\": \"root\",\n",
       "   \"start_char\": 43,\n",
       "   \"end_char\": 47\n",
       " }]"
      ]
     },
     "execution_count": 25,
     "metadata": {},
     "output_type": "execute_result"
    }
   ],
   "source": [
    "# look for head ID of zero - this is root of sentence\n",
    "\n",
    "print(\"Showing head word of sentence:\")\n",
    "[word for word in sentences_depparse[0].words if word.head==0]"
   ]
  },
  {
   "cell_type": "code",
   "execution_count": null,
   "id": "aaf62730-b27e-4966-b570-b7d59f151c99",
   "metadata": {},
   "outputs": [],
   "source": []
  }
 ],
 "metadata": {
  "kernelspec": {
   "display_name": "Python 3 (ipykernel)",
   "language": "python",
   "name": "python3"
  },
  "language_info": {
   "codemirror_mode": {
    "name": "ipython",
    "version": 3
   },
   "file_extension": ".py",
   "mimetype": "text/x-python",
   "name": "python",
   "nbconvert_exporter": "python",
   "pygments_lexer": "ipython3",
   "version": "3.11.4"
  }
 },
 "nbformat": 4,
 "nbformat_minor": 5
}
