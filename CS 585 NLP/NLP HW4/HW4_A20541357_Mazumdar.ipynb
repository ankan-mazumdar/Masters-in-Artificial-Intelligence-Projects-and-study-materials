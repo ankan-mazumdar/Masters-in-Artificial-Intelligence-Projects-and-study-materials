{
  "nbformat": 4,
  "nbformat_minor": 0,
  "metadata": {
    "colab": {
      "provenance": []
    },
    "kernelspec": {
      "name": "python3",
      "display_name": "Python 3"
    },
    "language_info": {
      "name": "python"
    }
  },
  "cells": [
    {
      "cell_type": "markdown",
      "source": [
        "PROBLEM 1 – Reading the data in CoNLL format (20pts)\n"
      ],
      "metadata": {
        "id": "oEyquVj1LUsg"
      }
    },
    {
      "cell_type": "code",
      "execution_count": 1,
      "metadata": {
        "colab": {
          "base_uri": "https://localhost:8080/",
          "height": 0
        },
        "id": "hQ06UG8LBJOy",
        "outputId": "824917c0-6830-410c-a884-87c257239e7e"
      },
      "outputs": [
        {
          "output_type": "stream",
          "name": "stdout",
          "text": [
            "Number of sequences in the train dataset: 5432\n",
            "Number of sequences in the test dataset: 940\n",
            "\n",
            "Tokens of the first sequence in the train dataset:\n",
            "['Identification', 'of', 'APC2', ',', 'a', 'homologue', 'of', 'the', 'adenomatous', 'polyposis', 'coli', 'tumour', 'suppressor', '.']\n",
            "\n",
            "Tags of the first sequence in the train dataset:\n",
            "['O', 'O', 'O', 'O', 'O', 'O', 'O', 'O', 'B-Disease', 'I-Disease', 'I-Disease', 'I-Disease', 'O', 'O']\n"
          ]
        }
      ],
      "source": [
        "def load_conll_data(file_path):\n",
        "    data_sequences = []\n",
        "    data_tags = []\n",
        "    with open(file_path, 'r') as data_file:\n",
        "        current_sequence = []\n",
        "        current_tag_sequence = []\n",
        "        for data_line in data_file:\n",
        "            data_line = data_line.strip()\n",
        "            if data_line:\n",
        "                data_token, data_tag = data_line.split('\\t')\n",
        "                current_sequence.append(data_token)\n",
        "                current_tag_sequence.append(data_tag)\n",
        "            else:\n",
        "                data_sequences.append(current_sequence)\n",
        "                data_tags.append(current_tag_sequence)\n",
        "                current_sequence = []\n",
        "                current_tag_sequence = []\n",
        "        if current_sequence:\n",
        "            data_sequences.append(current_sequence)\n",
        "            data_tags.append(current_tag_sequence)\n",
        "    return data_sequences, data_tags\n",
        "\n",
        "# Load data from train.tsv and test.tsv files\n",
        "train_data_sequences_tokens, train_data_tags = load_conll_data('/content/conll/train.tsv')\n",
        "test_data_sequences_tokens, test_data_tags = load_conll_data('/content/conll/test.tsv')\n",
        "\n",
        "# Print the number of sequences in the train and test datasets\n",
        "print(\"Number of sequences in the train dataset:\", len(train_data_sequences_tokens))\n",
        "print(\"Number of sequences in the test dataset:\", len(test_data_sequences_tokens))\n",
        "\n",
        "# Print the tokens and tags of the first sequence in the training dataset\n",
        "print(\"\\nTokens of the first sequence in the train dataset:\")\n",
        "print(train_data_sequences_tokens[0])\n",
        "print(\"\\nTags of the first sequence in the train dataset:\")\n",
        "print(train_data_tags[0])\n"
      ]
    },
    {
      "cell_type": "markdown",
      "source": [
        "#PROBLEM 2 – Data Discovery (5 pts)\n",
        "In this problem you will examine the data that you read into memory in the previous problem. Using the\n",
        "training dataset for analysis, show the following in your notebook output:\n",
        "• The count of each of the 3 tags in the training data: “B-Disease”, “I-Disease”, and “O”. Note that\n",
        "the most frequent token is \"O\", since most words are not part of a disease mention.\n",
        "• The 20 most common words/tokens that appear with the tags “B-Disease” or “I-Disease”. That\n",
        "is, show words that often appear disease mentions. (You may show frequent “B-Disease” and “IDisease” words separately, or you may combine them into a single list.)\n",
        "\n"
      ],
      "metadata": {
        "id": "JdazjfEtLZAj"
      }
    },
    {
      "cell_type": "code",
      "source": [
        "from collections import Counter\n",
        "\n",
        "# Count of each tag in the training data\n",
        "tag_counts = Counter(tag for tag_sequence in train_data_tags for tag in tag_sequence)\n",
        "print(\"Tag counts in train:\", tag_counts)\n",
        "\n",
        "# Word counts for B-Disease and I-Disease tags\n",
        "all_words = []\n",
        "bdisease_words = []\n",
        "idisease_words = []\n",
        "\n",
        "for sequence, tag_sequence in zip(train_data_sequences_tokens, train_data_tags):\n",
        "    for token, tag in zip(sequence, tag_sequence):\n",
        "        all_words.append(token)\n",
        "        if tag == 'B-Disease':\n",
        "            bdisease_words.append(token)\n",
        "        if tag == 'I-Disease':\n",
        "            idisease_words.append(token)\n",
        "\n",
        "B_or_I_disease_counts = Counter(all_words)\n",
        "bdisease_counts = Counter(bdisease_words)\n",
        "idisease_counts = Counter(idisease_words)\n",
        "\n",
        "print(\"\\n20 most common words/tokens with either B-Disease or I-Disease tag:\")\n",
        "print(B_or_I_disease_counts.most_common(20))\n",
        "print(\"\\n20 most common words/tokens with B-Disease tag with their respective counts:\")\n",
        "print(bdisease_counts.most_common(20))\n",
        "print(\"\\n20 most common words/tokens with I-Disease tag with their respective counts:\")\n",
        "print(idisease_counts.most_common(20))\n"
      ],
      "metadata": {
        "colab": {
          "base_uri": "https://localhost:8080/",
          "height": 0
        },
        "id": "ZUF5lioYLZeH",
        "outputId": "324e38a0-a8f1-43cf-a642-d633462efb55"
      },
      "execution_count": 2,
      "outputs": [
        {
          "output_type": "stream",
          "name": "stdout",
          "text": [
            "Tag counts in train: Counter({'O': 124819, 'I-Disease': 6122, 'B-Disease': 5145})\n",
            "\n",
            "20 most common words/tokens with either B-Disease or I-Disease tag:\n",
            "[('.', 6294), ('the', 5703), ('of', 5369), (',', 4585), ('in', 3617), ('-', 3580), ('and', 3176), ('a', 2345), (')', 1964), ('(', 1954), ('to', 1706), ('with', 1526), ('gene', 1148), ('is', 1026), ('for', 1007), ('that', 968), ('The', 849), ('mutations', 813), ('was', 779), ('by', 702)]\n",
            "\n",
            "20 most common words/tokens with B-Disease tag with their respective counts:\n",
            "[('DM', 120), ('breast', 115), ('DMD', 110), ('APC', 94), ('X', 92), ('ALD', 86), ('PWS', 75), ('G6PD', 68), ('WAS', 63), ('autosomal', 58), ('familial', 58), ('myotonic', 57), ('Duchenne', 56), ('HD', 55), ('PKU', 52), ('aniridia', 50), ('deficiency', 47), ('ovarian', 46), ('hereditary', 45), ('VHL', 45)]\n",
            "\n",
            "20 most common words/tokens with I-Disease tag with their respective counts:\n",
            "[('-', 636), ('syndrome', 281), ('deficiency', 275), ('disease', 256), ('cancer', 230), ('of', 178), ('dystrophy', 176), ('and', 120), ('disorder', 92), ('ovarian', 86), ('muscular', 84), ('linked', 81), ('the', 78), ('polyposis', 59), ('recessive', 52), ('(', 46), (')', 46), ('cancers', 45), ('tumors', 39), ('Sachs', 38)]\n"
          ]
        }
      ]
    },
    {
      "cell_type": "markdown",
      "source": [
        "• OPTIONAL: Any other data exploration you would like to perform. For example, you may want to\n",
        "print and read a small sample of token sequences, to become familiar with the data.\n",
        "Review the list of words that commonly appear in disease mentions. Do you see any patterns? (You do\n",
        "not need to answer in writing, but it may be helpful in Problem 3 where you design a feature.)"
      ],
      "metadata": {
        "id": "5s55oyLrVaqm"
      }
    },
    {
      "cell_type": "code",
      "source": [
        "#print token sequences having token hyphen '-'\n",
        "result = []\n",
        "\n",
        "for sublist in train_data_sequences_tokens:\n",
        "    if '-' in sublist:\n",
        "        result.append(sublist)\n",
        "print(result[:5])"
      ],
      "metadata": {
        "colab": {
          "base_uri": "https://localhost:8080/",
          "height": 0
        },
        "id": "fQNMzwNwAztA",
        "outputId": "5568037b-77e5-4d67-f11f-658834291126"
      },
      "execution_count": 3,
      "outputs": [
        {
          "output_type": "stream",
          "name": "stdout",
          "text": [
            "[['The', 'adenomatous', 'polyposis', 'coli', '(', 'APC', ')', 'tumour', '-', 'suppressor', 'protein', 'controls', 'the', 'Wnt', 'signalling', 'pathway', 'by', 'forming', 'a', 'complex', 'with', 'glycogen', 'synthase', 'kinase', '3beta', '(', 'GSK', '-', '3beta', ')', ',', 'axin', '/', 'conductin', 'and', 'betacatenin', '.'], ['In', 'colon', 'carcinoma', 'cells', ',', 'loss', 'of', 'APC', 'leads', 'to', 'the', 'accumulation', 'of', 'betacatenin', 'in', 'the', 'nucleus', ',', 'where', 'it', 'binds', 'to', 'and', 'activates', 'the', 'Tcf', '-', '4', 'transcription', 'factor', '(', 'reviewed', 'in', '[', '1', ']', '[', '2', ']', ')', '.'], ['Like', 'APC', ',', 'APC2', 'regulates', 'the', 'formation', 'of', 'active', 'betacatenin', '-', 'Tcf', 'complexes', ',', 'as', 'demonstrated', 'using', 'transient', 'transcriptional', 'activation', 'assays', 'in', 'APC', '-', '/', '-', 'colon', 'carcinoma', 'cells', '.'], ['The', 'frequency', ',', 'origin', ',', 'and', 'phenotypic', 'expression', 'of', 'a', 'germline', 'MSH2', 'gene', 'mutation', 'previously', 'identified', 'in', 'seven', 'kindreds', 'with', 'hereditary', 'non', '-', 'polyposis', 'cancer', 'syndrome', '(', 'HNPCC', ')', 'was', 'investigated', '.'], ['The', 'mutation', '(', 'A', '-', '-', '>', 'T', 'at', 'nt943', '+', '3', ')', 'disrupts', 'the', '3', 'splice', 'site', 'of', 'exon', '5', 'leading', 'to', 'the', 'deletion', 'of', 'this', 'exon', 'from', 'MSH2', 'mRNA', 'and', 'represents', 'the', 'only', 'frequent', 'MSH2', 'mutation', 'so', 'far', 'reported', '.']]\n"
          ]
        }
      ]
    },
    {
      "cell_type": "markdown",
      "source": [
        "In the context of this dataset, B-Disease and I-Disease tags are annotations used for named entity recognition. They stand for \"Beginning\" and \"Inside\" respectively, which are part of the BIO tagging scheme.\n",
        "\n",
        "In the BIO scheme:\n",
        "\n",
        "B-Disease: stands for the \"beginning\" of a disease entity mention in the text. It indicates the first word of a disease mention.\n",
        "I-Disease: stands for \"inside\" and it is used for all other words of the disease name, which are not the first word.\n",
        "For example, in the phrase \"adenomatous polyposis coli\", \"adenomatous\" might be marked as \"B-Disease\", and \"polyposis\" and \"coli\" as \"I-Disease\""
      ],
      "metadata": {
        "id": "28oIfBTNVCxv"
      }
    },
    {
      "cell_type": "markdown",
      "source": [
        "### PROBLEM 3 – Building features (20 pts)\n",
        "**In this problem, you will build the features that you will use in your CRF model. You may find it helpful to\n",
        "refer to this demo notebook, to understand how to work with the python-crfsuite library.**\n",
        "\n",
        "- Write a function that takes two inputs:\n",
        "    - A sequence of tokens\n",
        "    - An integer position, pointing to one token in that sequence.\n",
        "    \n",
        "    and returns a list of features, represented as a list of strings. At minimum, include these features:\n",
        "    - The current word/token in lower case\n",
        "    - The suffix (last 3 characters) of the current word\n",
        "    - The previous word/token (position i-1) or “BOS” if at the beginning of the sequence\n",
        "    - The next word/token (position i+1), or “EOS” if at the beginning of the sequence\n",
        "    - At least one other feature of your choice\n",
        "\n",
        "\n",
        "- Apply your function your train and test token sequences (from output of Problem 1).\n",
        "- To show that you have completed this step, apply your output to the first 3 words in the first\n",
        "sequence of the training set."
      ],
      "metadata": {
        "id": "mIGCjBPkLaEF"
      }
    },
    {
      "cell_type": "code",
      "source": [
        "import string\n",
        "\n",
        "def token_features(tokens, index):\n",
        "    token = tokens[index]\n",
        "    features = [\n",
        "        f'w0.length={len(token)}' ,  # New feature for punctuation\n",
        "        f'w0.is_punctuation={token in string.punctuation}',  # New feature for punctuation\n",
        "        f'w0.lower={token.lower()}',\n",
        "        f'w0.suffix3={token[-3:]}',\n",
        "        f'w0.is_digit={token.isdigit()}',\n",
        "\n",
        "    ]\n",
        "    if index > 0:\n",
        "        prev_token = tokens[index - 1]\n",
        "        features.extend([\n",
        "            f'w-1={prev_token}',\n",
        "        ])\n",
        "    else:\n",
        "        features.append('BOS')\n",
        "    if index < len(tokens) - 1:\n",
        "        next_token = tokens[index + 1]\n",
        "        features.extend([\n",
        "            f'w+1={next_token}',\n",
        "        ])\n",
        "    else:\n",
        "        features.append('EOS')\n",
        "    return features\n",
        "\n",
        "# Applying the function to the first 4 tokens\n",
        "sample_features = [token_features(train_data_sequences_tokens[0], i) for i in range(4)]\n",
        "for i, features in enumerate(sample_features):\n",
        "    print(f\"Token {i} features: {features}\")\n"
      ],
      "metadata": {
        "colab": {
          "base_uri": "https://localhost:8080/",
          "height": 0
        },
        "id": "QYV_uVfALaie",
        "outputId": "9c774701-7b7d-4d49-ca2d-e0ccccbfb6fe"
      },
      "execution_count": 4,
      "outputs": [
        {
          "output_type": "stream",
          "name": "stdout",
          "text": [
            "Token 0 features: ['w0.length=14', 'w0.is_punctuation=False', 'w0.lower=identification', 'w0.suffix3=ion', 'w0.is_digit=False', 'BOS', 'w+1=of']\n",
            "Token 1 features: ['w0.length=2', 'w0.is_punctuation=False', 'w0.lower=of', 'w0.suffix3=of', 'w0.is_digit=False', 'w-1=Identification', 'w+1=APC2']\n",
            "Token 2 features: ['w0.length=4', 'w0.is_punctuation=False', 'w0.lower=apc2', 'w0.suffix3=PC2', 'w0.is_digit=False', 'w-1=of', 'w+1=,']\n",
            "Token 3 features: ['w0.length=1', 'w0.is_punctuation=True', 'w0.lower=,', 'w0.suffix3=,', 'w0.is_digit=False', 'w-1=APC2', 'w+1=a']\n"
          ]
        }
      ]
    },
    {
      "cell_type": "markdown",
      "source": [
        "Here, I printed first 4 tokens intead of 3 in order to show 'w0:is_punctuation=True' for 4th record"
      ],
      "metadata": {
        "id": "BRi8YlFz8g7D"
      }
    },
    {
      "cell_type": "markdown",
      "source": [
        "#PROBLEM 4 – Training a CRF model (20 pts)\n",
        "In this problem, you will train a CRF model and evaluate it using metrics computed over individual tags.\n",
        "• Using the python-crfsuite library, train a CRF sequential tagging model using feature sequences\n",
        "that you built in the previous step. Using your training data as input.\n",
        "• Apply your model to your test dataset to generate predicted tag sequences.\n",
        "• For each of the 3 labels (\"B-Disease\", \"I-Disease\", and “O\") show precision, recall, f1-score. [You\n",
        "may use the sckit-learn function classification_report to complete this step. You may also want\n",
        "to “flatten” both the true and predicted tags into a single list of tags to apply this function.]\n"
      ],
      "metadata": {
        "id": "W_Unu0GBPosT"
      }
    },
    {
      "cell_type": "markdown",
      "source": [
        "Answer -\n",
        "I performed this using sklearn-crfsuite and pycrfsuite both, getting the same output both the times."
      ],
      "metadata": {
        "id": "CPqK5Gv7GheC"
      }
    },
    {
      "cell_type": "code",
      "source": [
        "!pip install sklearn-crfsuite"
      ],
      "metadata": {
        "colab": {
          "base_uri": "https://localhost:8080/",
          "height": 0
        },
        "id": "xCgtA4EB0uN4",
        "outputId": "13a657cd-60c3-439a-8f58-73d98ccbdf75"
      },
      "execution_count": 8,
      "outputs": [
        {
          "output_type": "stream",
          "name": "stdout",
          "text": [
            "Requirement already satisfied: sklearn-crfsuite in /usr/local/lib/python3.10/dist-packages (0.3.6)\n",
            "Requirement already satisfied: python-crfsuite>=0.8.3 in /usr/local/lib/python3.10/dist-packages (from sklearn-crfsuite) (0.9.9)\n",
            "Requirement already satisfied: six in /usr/local/lib/python3.10/dist-packages (from sklearn-crfsuite) (1.16.0)\n",
            "Requirement already satisfied: tabulate in /usr/local/lib/python3.10/dist-packages (from sklearn-crfsuite) (0.9.0)\n",
            "Requirement already satisfied: tqdm>=2.0 in /usr/local/lib/python3.10/dist-packages (from sklearn-crfsuite) (4.66.1)\n"
          ]
        }
      ]
    },
    {
      "cell_type": "code",
      "source": [
        "from sklearn.metrics import classification_report\n",
        "import sklearn_crfsuite\n",
        "\n",
        "X_train = [[token_features(seq, i) for i in range(len(seq))] for seq in train_data_sequences_tokens]\n",
        "y_train = train_data_tags\n",
        "X_test = [[token_features(seq, i) for i in range(len(seq))] for seq in test_data_sequences_tokens]\n",
        "y_test = test_data_tags\n",
        "\n",
        "# Training the CRF model\n",
        "crf = sklearn_crfsuite.CRF(\n",
        "    algorithm='lbfgs',\n",
        "    c1=0.1,\n",
        "    c2=0.1,\n",
        "    max_iterations=100,\n",
        "    all_possible_transitions=True\n",
        ")\n",
        "crf.fit(X_train, y_train)\n",
        "# Prediction on the test set\n",
        "y_pred = crf.predict(X_test)\n",
        "\n",
        "# Flattening the prediction and true labels\n",
        "y_pred_flat = [item for sublist in y_pred for item in sublist]\n",
        "y_test_flat = [item for sublist in y_test for item in sublist]\n",
        "\n",
        "# Evaluating the model performance\n",
        "print(classification_report(y_test_flat, y_pred_flat, labels=[\"B-Disease\", \"I-Disease\", \"O\"], digits=3))"
      ],
      "metadata": {
        "colab": {
          "base_uri": "https://localhost:8080/",
          "height": 0
        },
        "id": "IrfgBo1Xoh-a",
        "outputId": "fabbc4e5-e389-41d2-d3c8-c1d6fb703f7d"
      },
      "execution_count": 15,
      "outputs": [
        {
          "output_type": "stream",
          "name": "stdout",
          "text": [
            "              precision    recall  f1-score   support\n",
            "\n",
            "   B-Disease      0.878     0.741     0.803       960\n",
            "   I-Disease      0.879     0.745     0.807      1087\n",
            "           O      0.980     0.994     0.987     22450\n",
            "\n",
            "    accuracy                          0.973     24497\n",
            "   macro avg      0.912     0.827     0.866     24497\n",
            "weighted avg      0.972     0.973     0.972     24497\n",
            "\n"
          ]
        }
      ]
    },
    {
      "cell_type": "code",
      "source": [
        "!pip install python-crfsuite"
      ],
      "metadata": {
        "colab": {
          "base_uri": "https://localhost:8080/",
          "height": 0
        },
        "id": "4_KapgCZQOCr",
        "outputId": "04732574-2f21-438e-9263-aa17866adca4"
      },
      "execution_count": 9,
      "outputs": [
        {
          "output_type": "stream",
          "name": "stdout",
          "text": [
            "Requirement already satisfied: python-crfsuite in /usr/local/lib/python3.10/dist-packages (0.9.9)\n"
          ]
        }
      ]
    },
    {
      "cell_type": "code",
      "source": [
        "import os\n",
        "import sys\n",
        "from sklearn.metrics import classification_report\n",
        "import pycrfsuite\n",
        "\n",
        "# Create a Trainer instance\n",
        "trainer = pycrfsuite.Trainer()\n",
        "\n",
        "# Add data to the trainer\n",
        "for x_seq, y_seq in zip(X_train, y_train):\n",
        "    trainer.append(x_seq, y_seq)\n",
        "\n",
        "# Set training parameters\n",
        "trainer.set_params({\n",
        "    'c1': 0.1,\n",
        "    'c2': 0.1,\n",
        "    'max_iterations': 100,\n",
        "    'feature.possible_transitions': True,\n",
        "})\n",
        "\n",
        "# Redirect stdout to hide the iterations during training\n",
        "stdout_orig = sys.stdout\n",
        "sys.stdout = open(os.devnull, 'w')\n",
        "\n",
        "# Train the CRF model\n",
        "trainer.train('my_disease_crf_model.crfsuite')\n",
        "\n",
        "# Restore stdout\n",
        "sys.stdout = stdout_orig\n",
        "\n",
        "# Create a Tagger instance and open the trained model\n",
        "tagger = pycrfsuite.Tagger()\n",
        "tagger.open('my_disease_crf_model.crfsuite')\n",
        "\n",
        "\n",
        "# Make predictions on the test set\n",
        "y_pred = [tagger.tag(x_seq) for x_seq in X_test]\n",
        "\n",
        "# Flatten the predictions and true labels\n",
        "y_pred_flat = [item for sublist in y_pred for item in sublist]\n",
        "y_test_flat = [item for sublist in y_test for item in sublist]\n",
        "\n",
        "# Evaluate the model's performance\n",
        "print(classification_report(y_test_flat, y_pred_flat, labels=[\"B-Disease\", \"I-Disease\", \"O\"], digits=3))\n"
      ],
      "metadata": {
        "colab": {
          "base_uri": "https://localhost:8080/",
          "height": 0
        },
        "id": "5a-iaCLCxUD2",
        "outputId": "434e0c40-1cf6-4566-b588-d9a080a36ba7"
      },
      "execution_count": 13,
      "outputs": [
        {
          "output_type": "stream",
          "name": "stdout",
          "text": [
            "              precision    recall  f1-score   support\n",
            "\n",
            "   B-Disease      0.878     0.741     0.803       960\n",
            "   I-Disease      0.879     0.745     0.807      1087\n",
            "           O      0.980     0.994     0.987     22450\n",
            "\n",
            "    accuracy                          0.973     24497\n",
            "   macro avg      0.912     0.827     0.866     24497\n",
            "weighted avg      0.972     0.973     0.972     24497\n",
            "\n"
          ]
        }
      ]
    },
    {
      "cell_type": "markdown",
      "source": [
        "#PROBLEM 5 – Inspecting the trained model (10 pts)\n",
        "In this problem you will examine parameter weights assigned by your model. You can do this by calling\n",
        "“tagger.info().transitions” and “tagger.info().state_features” on your trained model object.\n",
        "• In your notebook, show parameter weights given to transitions between the 3 tag types (\"BDisease\", \"I-Disease\", and \"O\").\n",
        "• Refer back to the feature you designed in Problem 3 (the feature \"of your choice\"). Show the\n",
        "parameter weights assigned to this feature. You may truncate this list if it is very long. [This may\n",
        "happen if you included a word from the sequence in the feature name, so your feature was\n",
        "expanded to become a larger set of features that grows with your vocabulary]\n",
        "• *IF* your feature was dropped during model training (that is, there is nothing to show in the\n",
        "previous step) then return to Problem 4 and design a new feature that is used in your model.\n"
      ],
      "metadata": {
        "id": "w8iaiVujQhE0"
      }
    },
    {
      "cell_type": "markdown",
      "source": [
        "Answer-\n",
        "Here I'm showing weights for my preferred features length and punctuation symbols"
      ],
      "metadata": {
        "id": "cqyYzIVsSEDd"
      }
    },
    {
      "cell_type": "code",
      "source": [
        "# To inspect the parameter weights assigned by the trained model, we can use the tagger.info().transitions and tagger.info().state_features attributes.\n",
        "transitions = tagger.info().transitions\n",
        "state_features = tagger.info().state_features\n",
        "\n",
        "# Parameter weights for transitions between tag types\n",
        "print(\"Parameter weights for transitions:\")\n",
        "for transition in transitions:\n",
        "    print(f\"From '{transition[0]}' to '{transition[1]}': {transitions[transition]}\")\n",
        "\n",
        "# Parameter weights for the feature designed in Problem 3\n",
        "print(\"\\nParameter weights for my preferred feature length and punctuation are as follows:\")\n",
        "# Filter and print features with 'w0.length'\n",
        "for key, value in state_features.items():\n",
        "    if 'w0.length' in key[0]:\n",
        "        print(f\"feature :{key}: {value}\")\n",
        "    elif 'w0.is_punctuation' in key[0]:\n",
        "        print(f\"feature :{key}: {value}\")\n"
      ],
      "metadata": {
        "colab": {
          "base_uri": "https://localhost:8080/",
          "height": 0
        },
        "id": "nJmBEdwM5FI6",
        "outputId": "ac8909ce-5c53-494d-ff22-af048e0e8358"
      },
      "execution_count": 17,
      "outputs": [
        {
          "output_type": "stream",
          "name": "stdout",
          "text": [
            "Parameter weights for transitions:\n",
            "From 'O' to 'O': 1.640437\n",
            "From 'O' to 'B-Disease': -0.474237\n",
            "From 'O' to 'I-Disease': -8.170689\n",
            "From 'B-Disease' to 'O': -2.835766\n",
            "From 'B-Disease' to 'B-Disease': -5.988195\n",
            "From 'B-Disease' to 'I-Disease': 1.508452\n",
            "From 'I-Disease' to 'O': -1.353068\n",
            "From 'I-Disease' to 'B-Disease': -3.395391\n",
            "From 'I-Disease' to 'I-Disease': 3.165557\n",
            "\n",
            "Parameter weights for my preferred feature length and punctuation are as follows:\n",
            "feature :('w0.length=14', 'O'): -0.413239\n",
            "feature :('w0.length=14', 'B-Disease'): 0.411352\n",
            "feature :('w0.length=14', 'I-Disease'): 0.208877\n",
            "feature :('w0.is_punctuation=False', 'O'): 0.41104\n",
            "feature :('w0.is_punctuation=False', 'B-Disease'): -0.060381\n",
            "feature :('w0.is_punctuation=False', 'I-Disease'): -1.078765\n",
            "feature :('w0.length=2', 'O'): 0.324532\n",
            "feature :('w0.length=2', 'B-Disease'): -0.526723\n",
            "feature :('w0.length=2', 'I-Disease'): -0.207495\n",
            "feature :('w0.length=4', 'O'): 0.378566\n",
            "feature :('w0.length=4', 'B-Disease'): -0.417988\n",
            "feature :('w0.length=4', 'I-Disease'): -0.228984\n",
            "feature :('w0.length=1', 'O'): 1.089097\n",
            "feature :('w0.length=1', 'B-Disease'): -2.670551\n",
            "feature :('w0.length=1', 'I-Disease'): 0.099382\n",
            "feature :('w0.is_punctuation=True', 'O'): 2.680262\n",
            "feature :('w0.is_punctuation=True', 'I-Disease'): -0.039539\n",
            "feature :('w0.length=9', 'O'): -0.006646\n",
            "feature :('w0.length=9', 'B-Disease'): -0.077556\n",
            "feature :('w0.length=9', 'I-Disease'): 0.07761\n",
            "feature :('w0.length=3', 'O'): -0.015061\n",
            "feature :('w0.length=3', 'B-Disease'): 0.573182\n",
            "feature :('w0.length=3', 'I-Disease'): -0.130034\n",
            "feature :('w0.length=11', 'O'): -0.025141\n",
            "feature :('w0.length=11', 'B-Disease'): -0.11614\n",
            "feature :('w0.length=11', 'I-Disease'): 0.400667\n",
            "feature :('w0.length=6', 'O'): -0.038101\n",
            "feature :('w0.length=6', 'B-Disease'): -0.489008\n",
            "feature :('w0.length=6', 'I-Disease'): 0.042327\n",
            "feature :('w0.length=10', 'O'): -0.141241\n",
            "feature :('w0.length=10', 'B-Disease'): -0.08771\n",
            "feature :('w0.length=10', 'I-Disease'): -0.001477\n",
            "feature :('w0.length=7', 'O'): 0.079946\n",
            "feature :('w0.length=7', 'B-Disease'): -0.486808\n",
            "feature :('w0.length=7', 'I-Disease'): 0.011503\n",
            "feature :('w0.length=8', 'O'): 0.057342\n",
            "feature :('w0.length=8', 'B-Disease'): -0.170386\n",
            "feature :('w0.length=8', 'I-Disease'): -0.198975\n",
            "feature :('w0.length=5', 'O'): 0.343632\n",
            "feature :('w0.length=5', 'B-Disease'): -0.709179\n",
            "feature :('w0.length=5', 'I-Disease'): -0.08968\n",
            "feature :('w0.length=12', 'O'): -0.163508\n",
            "feature :('w0.length=12', 'B-Disease'): -0.207498\n",
            "feature :('w0.length=12', 'I-Disease'): 0.127266\n",
            "feature :('w0.length=13', 'O'): -0.306874\n",
            "feature :('w0.length=13', 'B-Disease'): 0.295211\n",
            "feature :('w0.length=13', 'I-Disease'): 0.115525\n",
            "feature :('w0.length=15', 'O'): -1.045837\n",
            "feature :('w0.length=15', 'B-Disease'): 0.870488\n",
            "feature :('w0.length=15', 'I-Disease'): 0.077665\n",
            "feature :('w0.length=16', 'O'): -1.367769\n",
            "feature :('w0.length=16', 'B-Disease'): 1.05506\n",
            "feature :('w0.length=16', 'I-Disease'): 0.248335\n",
            "feature :('w0.length=17', 'O'): -0.715783\n",
            "feature :('w0.length=17', 'B-Disease'): 1.495829\n",
            "feature :('w0.length=17', 'I-Disease'): -0.04125\n",
            "feature :('w0.length=18', 'O'): -1.050932\n",
            "feature :('w0.length=18', 'B-Disease'): 0.463467\n",
            "feature :('w0.length=18', 'I-Disease'): 0.377525\n",
            "feature :('w0.length=21', 'O'): -1.395262\n",
            "feature :('w0.length=21', 'B-Disease'): 1.505901\n",
            "feature :('w0.length=20', 'O'): -0.826553\n",
            "feature :('w0.length=20', 'B-Disease'): 1.54157\n",
            "feature :('w0.length=20', 'I-Disease'): -0.068646\n",
            "feature :('w0.length=19', 'O'): -0.301182\n",
            "feature :('w0.length=19', 'B-Disease'): -0.000683\n",
            "feature :('w0.length=19', 'I-Disease'): 0.21304\n",
            "feature :('w0.length=22', 'B-Disease'): 1.938871\n",
            "feature :('w0.length=23', 'O'): -0.755398\n",
            "feature :('w0.length=23', 'I-Disease'): 0.639219\n",
            "feature :('w0.length=25', 'O'): -1.281555\n",
            "feature :('w0.length=25', 'B-Disease'): 0.829582\n",
            "feature :('w0.length=25', 'I-Disease'): 0.065302\n",
            "feature :('w0.length=26', 'B-Disease'): 0.122664\n"
          ]
        }
      ]
    },
    {
      "cell_type": "markdown",
      "source": [
        "PROBLEM 6 – Document level performance (10 pts)\n",
        "Tag-level accuracy is easy to compute, but it is not very easy to understand. In particular, one disease\n",
        "reference may cover both \"B-Disease\" and \"I-Disease\" tokens. To give another view of model\n",
        "performance, compute document-level precision and recall on your experiment output. To do this:\n",
        "• Write a function that aggregates token-level tags to a document-level label. For example,\n",
        "convert a tag sequence like [\"O\", \"B-Disease\", \"I-Disease\", \"O\", \"O\"] to a single label y=1. Your\n",
        "function should assign y=1 to a sequence with one or more disease mentions (at least one \"BDisease\" tag) and y=0 to a sequence with no disease mentions.\n",
        "• Apply your function to both true and predicted document-level labels from your test set. Use\n",
        "the output to compute document level precision and recall of your model. Show your results in\n",
        "your notebook."
      ],
      "metadata": {
        "id": "11MxmjMUC0CT"
      }
    },
    {
      "cell_type": "code",
      "source": [
        "def aggr_to_doc_level(tags):\n",
        "    # Checking here  if the sequence contains at least one \"B-Disease\" tag\n",
        "    return 1 if any(tag.startswith(\"B-Disease\") for tag in tags) else 0\n",
        "\n",
        "# Apply the aggregation function to true and predicted labels\n",
        "true_document_labels = [aggr_to_doc_level(doc) for doc in y_test]  # Replace 'y_test' with your true labels\n",
        "predicted_document_labels = [aggr_to_doc_level(doc) for doc in y_pred]  # Replace 'y_pred' with your predicted labels\n",
        "\n",
        "# Compute document-level precision and recall\n",
        "def compute_doc_precision_recall(true_labels, predicted_labels):\n",
        "    tps = sum(1 for true, predicted in zip(true_labels, predicted_labels) if true == 1 and predicted == 1)\n",
        "    fps = sum(1 for true, predicted in zip(true_labels, predicted_labels) if true == 0 and predicted == 1)\n",
        "    fns = sum(1 for true, predicted in zip(true_labels, predicted_labels) if true == 1 and predicted == 0)\n",
        "\n",
        "    precision = tps / (tps + fps) if tps + fps > 0 else 0\n",
        "    recall = tps / (tps + fns) if tps + fns > 0 else 0\n",
        "\n",
        "    return precision, recall\n",
        "\n",
        "document_precision, document_recall = compute_doc_precision_recall(true_document_labels, predicted_document_labels)\n",
        "\n",
        "print(f\"Document-Level Precision value: {document_precision:.3f}\")\n",
        "print(f\"Document-Level Recall value : {document_recall:.3f}\")\n"
      ],
      "metadata": {
        "colab": {
          "base_uri": "https://localhost:8080/",
          "height": 0
        },
        "id": "B4CEEQ5n5S7N",
        "outputId": "16f81629-45d5-4cab-e736-3f0de9380ea0"
      },
      "execution_count": 18,
      "outputs": [
        {
          "output_type": "stream",
          "name": "stdout",
          "text": [
            "Document-Level Precision value: 0.979\n",
            "Document-Level Recall value : 0.883\n"
          ]
        }
      ]
    },
    {
      "cell_type": "code",
      "source": [
        "def aggr_to_doc_level(tags):\n",
        "    # Checking here if the sequence contains at least one \"B-Disease\" tag or \"I-Disease\" tag or\n",
        "    if any(tag.startswith(\"B-Disease\") for tag in tags):\n",
        "        return 1\n",
        "    elif any(tag.startswith(\"I-Disease\") for tag in tags):\n",
        "        return 1\n",
        "    else:\n",
        "        return 0\n",
        "\n",
        "# Apply the aggregation function to true and predicted labels\n",
        "true_document_labels = [aggr_to_doc_level(doc) for doc in y_test]  # Replace 'y_test' with your true labels\n",
        "predicted_document_labels = [aggr_to_doc_level(doc) for doc in y_pred]  # Replace 'y_pred' with your predicted labels\n",
        "\n",
        "# Compute document-level precision and recall\n",
        "document_precision, document_recall = compute_doc_precision_recall(true_document_labels, predicted_document_labels)\n",
        "\n",
        "print(f\"Document-Level Precision value: {document_precision:.3f}\")\n",
        "print(f\"Document-Level Recall value : {document_recall:.3f}\")"
      ],
      "metadata": {
        "colab": {
          "base_uri": "https://localhost:8080/",
          "height": 0
        },
        "id": "QmOlxX8ZKbht",
        "outputId": "e836e6c8-0b16-48e4-a38b-86d81e975e9f"
      },
      "execution_count": 19,
      "outputs": [
        {
          "output_type": "stream",
          "name": "stdout",
          "text": [
            "Document-Level Precision value: 0.979\n",
            "Document-Level Recall value : 0.883\n"
          ]
        }
      ]
    },
    {
      "cell_type": "markdown",
      "source": [
        "observation- Getting the same precison-recall value result in both cases"
      ],
      "metadata": {
        "id": "vfTDKAaBM_0l"
      }
    }
  ]
}