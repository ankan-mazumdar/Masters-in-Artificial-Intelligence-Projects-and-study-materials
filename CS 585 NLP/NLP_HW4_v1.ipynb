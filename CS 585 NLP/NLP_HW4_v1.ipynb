{
 "cells": [
  {
   "cell_type": "markdown",
   "id": "7a19dfe6",
   "metadata": {},
   "source": [
    "### PROBLEM 1 – Reading the data in CoNLL format (20pts)"
   ]
  },
  {
   "cell_type": "code",
   "execution_count": 4,
   "id": "79fa39c5",
   "metadata": {},
   "outputs": [],
   "source": [
    "import requests\n",
    "\n",
    "def read_conll_file(url):\n",
    "    # Initialize - empty lists for tokens and tags\n",
    "    tokens_list = []\n",
    "    tags_list = []\n",
    "    current_tokens = []\n",
    "    current_tags = []\n",
    "\n",
    "    # GET request - fetch the data from the provided URL\n",
    "    response = requests.get(url)\n",
    "    if response.status_code == 200:\n",
    "        # Split - content into lines\n",
    "        lines = response.text.split('\\n')\n",
    "        for line in lines:\n",
    "            if line.strip() == '':\n",
    "                # Blank line - indicates the start of a new sequence\n",
    "                if current_tokens:\n",
    "                    tokens_list.append(current_tokens)\n",
    "                    tags_list.append(current_tags)\n",
    "                current_tokens = []\n",
    "                current_tags = []\n",
    "            else:\n",
    "                # Split - each line into token and tag\n",
    "                parts = line.split('\\t')\n",
    "                if len(parts) == 2:\n",
    "                    token, tag = parts\n",
    "                    current_tokens.append(token)\n",
    "                    current_tags.append(tag)\n",
    "        if current_tokens:\n",
    "            tokens_list.append(current_tokens)\n",
    "            tags_list.append(current_tags)\n",
    "    return tokens_list, tags_list\n",
    "\n",
    "# URL - train data\n",
    "train_url = \"https://raw.githubusercontent.com/spyysalo/ncbi-disease/master/conll/train.tsv\"\n",
    "\n",
    "# URL - test data\n",
    "test_url = \"https://raw.githubusercontent.com/spyysalo/ncbi-disease/master/conll/test.tsv\""
   ]
  },
  {
   "cell_type": "markdown",
   "id": "59ba4ab8",
   "metadata": {},
   "source": [
    "**Apply your function to train.tsv and test.tsv. To show you have read in the data correctly, show the following in your notebook output:**\n",
    "- The number of sequences in train and test. (You should see 5432 sequences in train and\n",
    "940 sequences in test.)\n",
    "- The tokens and tags of the first sequence in the training dataset.**"
   ]
  },
  {
   "cell_type": "code",
   "execution_count": 5,
   "id": "4d74e1bc",
   "metadata": {},
   "outputs": [
    {
     "name": "stdout",
     "output_type": "stream",
     "text": [
      "Number of sequences in train: 5432\n",
      "Number of sequences in test: 940\n",
      "\n",
      "Train Data - First Sequence Tokens:\n",
      "['Identification', 'of', 'APC2', ',', 'a', 'homologue', 'of', 'the', 'adenomatous', 'polyposis', 'coli', 'tumour', 'suppressor', '.']\n",
      "\n",
      "Train Data - First Sequence Tags:\n",
      "['O', 'O', 'O', 'O', 'O', 'O', 'O', 'O', 'B-Disease', 'I-Disease', 'I-Disease', 'I-Disease', 'O', 'O']\n"
     ]
    }
   ],
   "source": [
    "# Read - train and test data\n",
    "train_tokens, train_tags = read_conll_file(train_url)\n",
    "test_tokens, test_tags = read_conll_file(test_url)\n",
    "\n",
    "# Display - requested information\n",
    "print(f\"Number of sequences in train: {len(train_tokens)}\")\n",
    "print(f\"Number of sequences in test: {len(test_tokens)}\")\n",
    "\n",
    "# Display - tokens and tags of the first sequence in the training dataset\n",
    "print(\"\\nTrain Data - First Sequence Tokens:\")\n",
    "print(train_tokens[0])\n",
    "print(\"\\nTrain Data - First Sequence Tags:\")\n",
    "print(train_tags[0])"
   ]
  },
  {
   "cell_type": "markdown",
   "id": "09acfd1d",
   "metadata": {},
   "source": [
    "### PROBLEM 2 – Data Discovery (5 pts)"
   ]
  },
  {
   "cell_type": "markdown",
   "id": "ee242724",
   "metadata": {},
   "source": [
    "**In this problem you will examine the data that you read into memory in the previous problem. Using the\n",
    "training dataset for analysis, show the following in your notebook output:** \n",
    "\n",
    "- The count of each of the 3 tags in the training data: “B-Disease”, “I-Disease”, and “O”. Note that\n",
    "the most frequent token is \"O\", since most words are not part of a disease mention.\n",
    "- The 20 most common words/tokens that appear with the tags “B-Disease” or “I-Disease”. That\n",
    "is, show words that often appear disease mentions. (You may show frequent “B-Disease” and “I-\n",
    "Disease” words separately, or you may combine them into a single list.)\n",
    "- OPTIONAL: Any other data exploration you would like to perform. For example, you may want to\n",
    "print and read a small sample of token sequences, to become familiar with the data."
   ]
  },
  {
   "cell_type": "code",
   "execution_count": 3,
   "id": "7272521a",
   "metadata": {},
   "outputs": [
    {
     "name": "stdout",
     "output_type": "stream",
     "text": [
      "Tag Counts in Training Data:\n",
      "B-Disease: 5145\n",
      "I-Disease: 6122\n",
      "O: 124819\n",
      "\n",
      "20 Most Common Words with 'B-Disease' or 'I-Disease' Tags:\n",
      "-: 636\n",
      "deficiency: 322\n",
      "syndrome: 281\n",
      "cancer: 269\n",
      "disease: 256\n",
      "of: 178\n",
      "dystrophy: 176\n",
      "breast: 151\n",
      "ovarian: 132\n",
      "X: 122\n",
      "and: 120\n",
      "DM: 120\n",
      "ALD: 114\n",
      "DMD: 110\n",
      "APC: 100\n",
      "disorder: 94\n",
      "muscular: 94\n",
      "G6PD: 92\n",
      "linked: 81\n",
      "the: 78\n"
     ]
    }
   ],
   "source": [
    "# Count - occurrences of each tag in the training data\n",
    "tag_counts = {\"B-Disease\": 0, \"I-Disease\": 0, \"O\": 0}\n",
    "\n",
    "for sequence_tags in train_tags:\n",
    "    for tag in sequence_tags:\n",
    "        tag_counts[tag] += 1\n",
    "\n",
    "# Print - tag counts\n",
    "print(\"Tag Counts in Training Data:\")\n",
    "for tag, count in tag_counts.items():\n",
    "    print(f\"{tag}: {count}\")\n",
    "\n",
    "# Create - dictionary to count word frequencies for \"B-Disease\" and \"I-Disease\" tags\n",
    "word_counts = {}\n",
    "\n",
    "for i, sequence_tags in enumerate(train_tags):\n",
    "    for j, tag in enumerate(sequence_tags):\n",
    "        if tag in {\"B-Disease\", \"I-Disease\"}:\n",
    "            word = train_tokens[i][j]\n",
    "            if word in word_counts:\n",
    "                word_counts[word] += 1\n",
    "            else:\n",
    "                word_counts[word] = 1\n",
    "\n",
    "# Sort - words by frequency in descending order\n",
    "sorted_words = sorted(word_counts.items(), key=lambda item: item[1], reverse=True)\n",
    "\n",
    "# Print - 20 most common words with \"B-Disease\" or \"I-Disease\" tags\n",
    "print(\"\\n20 Most Common Words with 'B-Disease' or 'I-Disease' Tags:\")\n",
    "for word, count in sorted_words[:20]:\n",
    "    print(f\"{word}: {count}\")"
   ]
  },
  {
   "cell_type": "markdown",
   "id": "9b1df039",
   "metadata": {},
   "source": [
    "### PROBLEM 3 – Building features (20 pts)\n",
    "**In this problem, you will build the features that you will use in your CRF model. You may find it helpful to\n",
    "refer to this demo notebook, to understand how to work with the python-crfsuite library.**"
   ]
  },
  {
   "cell_type": "markdown",
   "id": "7c53fb26",
   "metadata": {},
   "source": [
    "- Write a function that takes two inputs:\n",
    "    - A sequence of tokens\n",
    "    - An integer position, pointing to one token in that sequence.\n",
    "    \n",
    "    and returns a list of features, represented as a list of strings. At minimum, include these features:\n",
    "    - The current word/token in lower case\n",
    "    - The suffix (last 3 characters) of the current word\n",
    "    - The previous word/token (position i-1) or “BOS” if at the beginning of the sequence\n",
    "    - The next word/token (position i+1), or “EOS” if at the beginning of the sequence\n",
    "    - At least one other feature of your choice\n",
    "\n",
    "\n",
    "- Apply your function your train and test token sequences (from output of Problem 1).\n",
    "- To show that you have completed this step, apply your output to the first 3 words in the first\n",
    "sequence of the training set."
   ]
  },
  {
   "cell_type": "code",
   "execution_count": 4,
   "id": "228d511c",
   "metadata": {},
   "outputs": [
    {
     "name": "stdout",
     "output_type": "stream",
     "text": [
      "['w0.lower=identification', 'w0.suffix3=ion', 'BOS', 'w+1.lower=of', 'w+1.suffix3=of', 'w0.length=14']\n",
      "['w0.lower=of', 'w0.suffix3=of', 'w-1.lower=identification', 'w-1.suffix3=ion', 'w+1.lower=apc2', 'w+1.suffix3=PC2', 'w0.length=2']\n",
      "['w0.lower=apc2', 'w0.suffix3=PC2', 'w-1.lower=of', 'w-1.suffix3=of', 'w+1.lower=,', 'w+1.suffix3=,', 'w0.length=4']\n",
      "['w0.lower=,', 'w0.suffix3=,', 'w-1.lower=apc2', 'w-1.suffix3=PC2', 'w+1.lower=a', 'w+1.suffix3=a', 'w0.length=1']\n",
      "['w0.lower=a', 'w0.suffix3=a', 'w-1.lower=,', 'w-1.suffix3=,', 'w+1.lower=homologue', 'w+1.suffix3=gue', 'w0.length=1']\n"
     ]
    }
   ],
   "source": [
    "# Define - function to extract features\n",
    "def extract_features(tokens, position):\n",
    "    features = []\n",
    "    word = tokens[position]\n",
    "    \n",
    "    # Add - features for the current word\n",
    "    features.append(f'w0.lower={word.lower()}')\n",
    "    features.append(f'w0.suffix3={word[-3:]}')\n",
    "    \n",
    "    # Add - features for the previous word (position i-1) or \"BOS\" if at the beginning of the sequence\n",
    "    if position == 0:\n",
    "        features.append('BOS')\n",
    "    else:\n",
    "        prev_word = tokens[position - 1]\n",
    "        features.append(f'w-1.lower={prev_word.lower()}')\n",
    "        features.append(f'w-1.suffix3={prev_word[-3:]}')\n",
    "    \n",
    "    # Add - features for the next word (position i+1) or \"EOS\" if at the end of the sequence\n",
    "    if position == len(tokens) - 1:\n",
    "        features.append('EOS')\n",
    "    else:\n",
    "        next_word = tokens[position + 1]\n",
    "        features.append(f'w+1.lower={next_word.lower()}')\n",
    "        features.append(f'w+1.suffix3={next_word[-3:]}')\n",
    "    \n",
    "    # Add - at least one other feature of my choice \n",
    "    features.append(f'w0.length={len(word)}')\n",
    "    \n",
    "    return features\n",
    "\n",
    "# Test - function with the first 5 words in the first sequence of the training set\n",
    "for i in range(5):\n",
    "    features = extract_features(train_tokens[0], i)\n",
    "    print(features)"
   ]
  },
  {
   "cell_type": "markdown",
   "id": "c4ef07be",
   "metadata": {},
   "source": [
    "### PROBLEM 4 – Training a CRF model (20 pts)\n"
   ]
  },
  {
   "cell_type": "markdown",
   "id": "81e8fd27",
   "metadata": {},
   "source": [
    "**In this problem, you will train a CRF model and evaluate it using metrics computed over individual tags.**\n",
    "\n",
    "- Using the python-crfsuite library, train a CRF sequential tagging model using feature sequences\n",
    "that you built in the previous step. Using your training data as input.\n",
    "- Apply your model to your test dataset to generate predicted tag sequences.\n",
    "- For each of the 3 labels (\"B-Disease\",\"I-Disease\", and “O\") show precision, recall, f1-score."
   ]
  },
  {
   "cell_type": "code",
   "execution_count": 5,
   "id": "49b56c92",
   "metadata": {},
   "outputs": [
    {
     "name": "stdout",
     "output_type": "stream",
     "text": [
      "              precision    recall  f1-score   support\n",
      "\n",
      "   B-Disease       0.86      0.72      0.78       960\n",
      "   I-Disease       0.85      0.76      0.80      1087\n",
      "           O       0.98      0.99      0.99     22450\n",
      "\n",
      "    accuracy                           0.97     24497\n",
      "   macro avg       0.90      0.82      0.86     24497\n",
      "weighted avg       0.97      0.97      0.97     24497\n",
      "\n"
     ]
    }
   ],
   "source": [
    "from sklearn.metrics import classification_report\n",
    "import pycrfsuite\n",
    "\n",
    "# Define - function to extract features for the entire dataset\n",
    "def extract_features_for_dataset(token_sequences):\n",
    "    features_for_dataset = []\n",
    "    for tokens in token_sequences:\n",
    "        features_for_sequence = []\n",
    "        for i in range(len(tokens)):\n",
    "            features = extract_features(tokens, i)\n",
    "            features_for_sequence.append(features)\n",
    "        features_for_dataset.append(features_for_sequence)\n",
    "    return features_for_dataset\n",
    "\n",
    "# Extract - features for the training and test datasets\n",
    "train_features = extract_features_for_dataset(train_tokens)\n",
    "test_features = extract_features_for_dataset(test_tokens)\n",
    "\n",
    "# Define - function to flatten the true and predicted tag sequences\n",
    "def flatten_tags(tag_sequences):\n",
    "    return [tag for sequence_tags in tag_sequences for tag in sequence_tags]\n",
    "\n",
    "# Train - CRF model\n",
    "trainer = pycrfsuite.Trainer(verbose=False)\n",
    "for x_seq, y_seq in zip(train_features, train_tags):\n",
    "    trainer.append(x_seq, y_seq)\n",
    "trainer.set_params({\n",
    "    'c1': 1.0,  # Coefficient for L1 penalty\n",
    "    'c2': 1e-3,  # Coefficient for L2 penalty\n",
    "    'max_iterations': 50,  # Maximum number of iterations\n",
    "})\n",
    "\n",
    "model_file = 'disease_crf_model.crfsuite'\n",
    "trainer.train(model_file)\n",
    "\n",
    "# Apply - trained model to the test data\n",
    "tagger = pycrfsuite.Tagger()\n",
    "tagger.open(model_file)\n",
    "test_pred_tags = [tagger.tag(features) for features in test_features]\n",
    "\n",
    "# Flatten - true and predicted tag sequences\n",
    "true_tags = flatten_tags(test_tags)\n",
    "pred_tags = flatten_tags(test_pred_tags)\n",
    "\n",
    "# Compute - precision, recall, and f1-score for each label\n",
    "target_names = [\"B-Disease\", \"I-Disease\", \"O\"]\n",
    "report = classification_report(true_tags, pred_tags, target_names=target_names)\n",
    "\n",
    "# Print - classification report\n",
    "print(report)"
   ]
  },
  {
   "cell_type": "markdown",
   "id": "0317691d",
   "metadata": {},
   "source": [
    "### PROBLEM 5 – Inspecting the trained model (10 pts)\n"
   ]
  },
  {
   "cell_type": "markdown",
   "id": "b026b746",
   "metadata": {},
   "source": [
    "**In this problem you will examine parameter weights assigned by your model. You can do this by calling\n",
    "“tagger.info().transitions” and “tagger.info().state_features” on your trained model object.**\n",
    "\n",
    "- In your notebook, show parameter weights given to transitions between the 3 tag types (\"B-Disease\",\"I-Disease\", and \"O\").\n",
    "- Refer back to the feature you designed in Problem 3 (the feature \"of your choice\"). Show the parameter weights assigned to this feature. You may truncate this list if it is very long.\n",
    "- *IF* your feature was dropped during model training (that is, there is nothing to show in the\n",
    "previous step) then return to Problem 4 and design a new feature that is used in your model."
   ]
  },
  {
   "cell_type": "code",
   "execution_count": 6,
   "id": "51db29c0",
   "metadata": {},
   "outputs": [
    {
     "name": "stdout",
     "output_type": "stream",
     "text": [
      "Transition Probabilities:\n",
      "From Tag     To Tag       Weight  \n",
      "O            O            3.8236  \n",
      "O            B-Disease    2.3919  \n",
      "B-Disease    O            -1.3448 \n",
      "B-Disease    B-Disease    -4.8753 \n",
      "B-Disease    I-Disease    5.8435  \n",
      "I-Disease    O            -3.9211 \n",
      "I-Disease    B-Disease    -5.6483 \n",
      "I-Disease    I-Disease    3.4077  \n",
      "\n",
      "Feature Weights:\n",
      "Label        Feature      Weight  \n",
      "O            w0.length=14 -0.2419 \n",
      "B-Disease    w0.length=14 0.4438  \n",
      "I-Disease    w0.length=14 0.0008  \n",
      "O            w0.length=2  0.5359  \n",
      "B-Disease    w0.length=2  -0.2939 \n",
      "I-Disease    w0.length=2  -0.2939 \n",
      "O            w0.length=4  0.6099  \n",
      "B-Disease    w0.length=4  0.1572  \n",
      "I-Disease    w0.length=4  -0.2709 \n",
      "O            w0.length=1  1.6596  \n",
      "B-Disease    w0.length=1  -1.9769 \n",
      "I-Disease    w0.length=1  -0.2225 \n",
      "O            w0.length=9  0.0075  \n",
      "B-Disease    w0.length=9  0.1911  \n",
      "I-Disease    w0.length=9  -0.0151 \n",
      "O            w0.length=3  0.3969  \n",
      "B-Disease    w0.length=3  0.9805  \n",
      "I-Disease    w0.length=3  0.0981  \n",
      "O            w0.length=11 0.0805  \n",
      "B-Disease    w0.length=11 0.0123  \n",
      "I-Disease    w0.length=11 0.0020  \n",
      "O            w0.length=6  -0.0205 \n",
      "B-Disease    w0.length=6  -0.1332 \n",
      "I-Disease    w0.length=6  -0.1301 \n",
      "O            w0.length=10 0.0220  \n",
      "B-Disease    w0.length=10 0.2313  \n",
      "I-Disease    w0.length=10 -0.1836 \n",
      "O            w0.length=7  0.2141  \n",
      "B-Disease    w0.length=7  -0.0015 \n",
      "I-Disease    w0.length=7  -0.0789 \n",
      "O            w0.length=8  0.1481  \n",
      "B-Disease    w0.length=8  0.0875  \n",
      "I-Disease    w0.length=8  -0.2119 \n",
      "O            w0.length=5  0.4244  \n",
      "B-Disease    w0.length=5  -0.1431 \n",
      "I-Disease    w0.length=5  -0.0893 \n",
      "O            w0.length=12 0.0230  \n",
      "B-Disease    w0.length=12 0.0817  \n",
      "I-Disease    w0.length=12 -0.0252 \n",
      "O            w0.length=13 -0.0440 \n",
      "B-Disease    w0.length=13 0.4411  \n",
      "I-Disease    w0.length=13 -0.1383 \n",
      "O            w0.length=15 -0.8235 \n",
      "B-Disease    w0.length=15 0.8305  \n",
      "I-Disease    w0.length=15 -0.0390 \n",
      "O            w0.length=16 -1.0659 \n",
      "B-Disease    w0.length=16 0.9781  \n",
      "O            w0.length=17 -0.7072 \n",
      "B-Disease    w0.length=17 0.9134  \n",
      "I-Disease    w0.length=17 -0.2991 \n",
      "O            w0.length=18 -0.6714 \n",
      "B-Disease    w0.length=18 0.5936  \n",
      "O            w0.length=21 -1.2350 \n",
      "B-Disease    w0.length=21 1.3986  \n",
      "O            w0.length=20 -0.6499 \n",
      "B-Disease    w0.length=20 1.3558  \n",
      "I-Disease    w0.length=19 0.1233  \n",
      "B-Disease    w0.lower=upper 1.1180  \n",
      "B-Disease    w0.length=22 1.5833  \n",
      "O            w0.length=23 -0.0011 \n",
      "I-Disease    w0.length=23 0.0549  \n",
      "O            w0.length=25 -0.6323 \n",
      "B-Disease    w0.length=25 0.6948  \n"
     ]
    }
   ],
   "source": [
    "get_info = tagger.info()\n",
    "tags = set(get_info.transitions.keys())\n",
    "train_data_tags = set()\n",
    "\n",
    "# Create - table for transition probabilities\n",
    "print(\"Transition Probabilities:\")\n",
    "print(\"{:<12} {:<12} {:<8}\".format(\"From Tag\", \"To Tag\", \"Weight\"))\n",
    "for key, value in get_info.transitions.items():\n",
    "    label_from, label_to = key\n",
    "    train_data_tags.add(label_from)\n",
    "    train_data_tags.add(label_to)\n",
    "    print(\"{:<12} {:<12} {:<8}\".format(label_from, label_to, f\"{value:.4f}\"))\n",
    "\n",
    "# Print - feature's weights\n",
    "print(\"\\nFeature Weights:\")\n",
    "# Check - if features are available for the tag\n",
    "print(\"{:<12} {:<12} {:<8}\".format(\"Label\", \"Feature\", \"Weight\"))\n",
    "for key, value in get_info.state_features.items():\n",
    "    attr, label = key\n",
    "    if \"upper\" in attr or \"length\" in attr:  # Features - upper and length\n",
    "        print(\"{:<12} {:<12} {:<8}\".format(label, attr, f\"{value:.4f}\"))"
   ]
  },
  {
   "cell_type": "markdown",
   "id": "52fecf34",
   "metadata": {},
   "source": [
    "### PROBLEM 6 – Document level performance (10 pts)"
   ]
  },
  {
   "cell_type": "markdown",
   "id": "efe92a14",
   "metadata": {},
   "source": [
    "**Tag-level accuracy is easy to compute, but it is not very easy to understand. In particular, one disease\n",
    "reference may cover both \"B-Disease\" and \"I-Disease\" tokens. To give another view of model\n",
    "performance, compute document-level precision and recall on your experiment output. To do this:** \n",
    "\n",
    "- Write a function that aggregates token-level tags to a document-level label. For example, convert a tag sequence like [\"O\", \"B-Disease\", \"I-Disease\", \"O\", \"O\"] to a single label y=1. Your function should assign y=1 to a sequence with one or more disease mentions (at least one \"B-Disease\" tag) and y=0 to a sequence with no disease mentions.\n",
    "- Apply your function to both true and predicted document-level labels from your test set. Use\n",
    "the output to compute document level precision and recall of your model. Show your results in\n",
    "your notebook."
   ]
  },
  {
   "cell_type": "code",
   "execution_count": 7,
   "id": "c1adce79",
   "metadata": {},
   "outputs": [
    {
     "name": "stdout",
     "output_type": "stream",
     "text": [
      "Document-Level Precision: 0.9671\n",
      "Document-Level Recall: 0.8738\n"
     ]
    }
   ],
   "source": [
    "# Define - function to agg token level tags\n",
    "def agg_doc_labels(token_sequences):\n",
    "    doc_labels = []\n",
    "    for sequence_tags in token_sequences:\n",
    "        if any(tag == \"B-Disease\" for tag in sequence_tags):\n",
    "            doc_labels.append(1)   \n",
    "        else:\n",
    "            doc_labels.append(0)   \n",
    "    return doc_labels\n",
    "\n",
    "# Aggregate - true and predicted labels to document-level\n",
    "true_doc_labels = agg_doc_labels(test_tags)\n",
    "predicted_doc_labels = agg_doc_labels(test_pred_tags)\n",
    "\n",
    "# Calculate - document-level precision and recall\n",
    "from sklearn.metrics import precision_score, recall_score\n",
    "\n",
    "doc_precision = precision_score(true_doc_labels, predicted_doc_labels)\n",
    "doc_recall = recall_score(true_doc_labels, predicted_doc_labels)\n",
    "\n",
    "# Print - document-level precision and recall\n",
    "print(f\"Document-Level Precision: {doc_precision:.4f}\")\n",
    "print(f\"Document-Level Recall: {doc_recall:.4f}\")\n"
   ]
  },
  {
   "cell_type": "code",
   "execution_count": 8,
   "id": "01c158f9",
   "metadata": {},
   "outputs": [
    {
     "name": "stdout",
     "output_type": "stream",
     "text": [
      "Document-Level Precision: 0.9671\n",
      "Document-Level Recall: 0.8738\n"
     ]
    }
   ],
   "source": [
    "# Define - function to agg token level tags\n",
    "def agg_doc_labels(token_sequences):\n",
    "    doc_labels = []\n",
    "    for sequence_tags in token_sequences:\n",
    "        if any(tag in {\"B-Disease\", \"I-Disease\"} for tag in sequence_tags):\n",
    "            doc_labels.append(1)  \n",
    "        else:\n",
    "            doc_labels.append(0)   \n",
    "    return doc_labels\n",
    "\n",
    "# Aggregate - true and predicted labels to document-level\n",
    "true_doc_labels = agg_doc_labels(test_tags)\n",
    "predicted_doc_labels = agg_doc_labels(test_pred_tags)\n",
    "\n",
    "# Calculate - document-level precision and recall\n",
    "from sklearn.metrics import precision_score, recall_score\n",
    "\n",
    "doc_precision = precision_score(true_doc_labels, predicted_doc_labels)\n",
    "doc_recall = recall_score(true_doc_labels, predicted_doc_labels)\n",
    "\n",
    "# Print - document-level precision and recall\n",
    "print(f\"Document-Level Precision: {doc_precision:.4f}\")\n",
    "print(f\"Document-Level Recall: {doc_recall:.4f}\")"
   ]
  },
  {
   "cell_type": "markdown",
   "id": "f262ffea",
   "metadata": {},
   "source": [
    "### PROBLEM 7 – State Transitions (10 pts – Answer in Blackboard)"
   ]
  },
  {
   "cell_type": "markdown",
   "id": "66400068",
   "metadata": {},
   "source": [
    "**The python-crfsuite library allows you to set a Boolean hyper-parameter called\n",
    "“feature.possible_transitions”. If this parameter is True, then the model may output tag-to-tag\n",
    "transitions that were never seen in training data. [You do not need to apply this parameter in your code\n",
    "to answer this question]**\n",
    "\n",
    "**What is an example of one tag-to-tag transition that never occurred in the training data?**\n",
    "- An example of tag-to-tag transition that never occurred in the training data could be \"B-Disease\" transitioning directly to \"I-Disease\" without any other tag in between.\n",
    "\n",
    "**For this particular experiment, do you think it makes sense to set this parameter to True or False? That is, should you allow transitions that never occurred in the training data? Explain your answer briefly.**\n",
    "- I think setting \"feature.possible_transitions\" to True allows the model to generate transitions that were not explicitly seen during training. This can be beneficial in situations where the training data is limited, and there might be valid transitions that were not observed but are likely to occur in practice. It makes the model more flexible and able to handle unseen transitions."
   ]
  },
  {
   "cell_type": "markdown",
   "id": "8a024ac2",
   "metadata": {},
   "source": []
  }
 ],
 "metadata": {
  "kernelspec": {
   "display_name": "Python 3 (ipykernel)",
   "language": "python",
   "name": "python3"
  },
  "language_info": {
   "codemirror_mode": {
    "name": "ipython",
    "version": 3
   },
   "file_extension": ".py",
   "mimetype": "text/x-python",
   "name": "python",
   "nbconvert_exporter": "python",
   "pygments_lexer": "ipython3",
   "version": "3.9.12"
  }
 },
 "nbformat": 4,
 "nbformat_minor": 5
}
